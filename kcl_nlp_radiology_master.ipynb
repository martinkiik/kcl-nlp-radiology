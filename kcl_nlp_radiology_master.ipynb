{
 "cells": [
  {
   "cell_type": "markdown",
   "metadata": {},
   "source": [
    "# Automatic labelling of radiology reports"
   ]
  },
  {
   "cell_type": "code",
   "execution_count": 16,
   "metadata": {},
   "outputs": [],
   "source": [
    "# Library imports\n",
    "\n",
    "# General\n",
    "import sys\n",
    "import os\n",
    "import pandas as pd\n",
    "import numpy as np\n",
    "import math\n",
    "from tqdm import tqdm\n",
    "from datetime import datetime\n",
    "\n",
    "# NLP imports\n",
    "from nltk.corpus import stopwords\n",
    "from nltk.tokenize import RegexpTokenizer\n",
    "from nltk.stem.porter import PorterStemmer\n",
    "import re\n",
    "\n",
    "# sklearn\n",
    "from sklearn.model_selection import StratifiedKFold, train_test_split, GridSearchCV\n",
    "from sklearn.linear_model import LogisticRegression\n",
    "from sklearn.metrics import roc_auc_score, roc_curve, auc, confusion_matrix\n",
    "\n",
    "# gensim for word embedding featurization\n",
    "import gensim\n",
    "from collections import namedtuple\n",
    "\n",
    "# misc\n",
    "import glob\n",
    "import os.path\n",
    "import multiprocessing\n",
    "import random\n",
    "import umap.umap_ as umap\n",
    "import matplotlib.pyplot as plt\n",
    "import pickle\n",
    "import shelve\n",
    "from itertools import groupby\n",
    "import collections\n",
    "\n",
    "sys.path.append(\"C:\\\\Users\\\\marti\\\\Dropbox\\\\1. KCL\\\\1. Current Modules\\\\6. SPM\\\\1. Analysis\\\\NLP\\\\rad-report-annotator\")\n",
    "sys.path.append(\"C:\\\\Users\\\\marti\\\\Dropbox\\\\1. KCL\\\\1. Current Modules\\\\6. SPM\\\\1. Analysis\\\\NLP\\\\roc_comparison-master\")\n",
    "\n",
    "import RadReportAnnotator as ra\n",
    "from compare_auc_delong_xu import delong_roc_variance\n",
    "# pd.set_option('display.max_columns', None)\n",
    "# dir(RadReportAnnotator) # list available functions"
   ]
  },
  {
   "cell_type": "code",
   "execution_count": 2,
   "metadata": {},
   "outputs": [],
   "source": [
    "# Initialize some folder paths\n",
    "reports = \"C:\\\\Users\\\\marti\\\\Dropbox\\\\1. KCL\\\\1. Current Modules\\\\6. SPM\\\\1. Analysis\\\\NLP\\\\Data\\\\20080801 20190131 Neuro and SLAM MRI Heads.csv\"\n",
    "reports_path = \"C:\\\\Users\\\\marti\\\\Dropbox\\\\1. KCL\\\\1. Current Modules\\\\6. SPM\\\\1. Analysis\\\\NLP\\\\Data\\\\Reports\"\n",
    "\n",
    "test_labels = \"C:\\\\Users\\\\marti\\\\Dropbox\\\\1. KCL\\\\1. Current Modules\\\\6. SPM\\\\1. Analysis\\\\NLP\\\\Data\\\\output_test.xlsx\"\n",
    "binary_labels = \"C:\\\\Users\\\\marti\\\\Dropbox\\\\1. KCL\\\\1. Current Modules\\\\6. SPM\\\\1. Analysis\\\\NLP\\\\Data\\\\output_binary_combined.xlsx\" # note that in binary_labels the label \"mass\" was used to identify abnormal vs normal\n",
    "stroke_labels = \"C:\\\\Users\\\\marti\\\\Dropbox\\\\1. KCL\\\\1. Current Modules\\\\6. SPM\\\\1. Analysis\\\\NLP\\\\Data\\\\output_stroke_20191210.xlsx\"\n",
    "labels_path = \"C:\\\\Users\\\\marti\\\\Dropbox\\\\1. KCL\\\\1. Current Modules\\\\6. SPM\\\\1. Analysis\\\\NLP\\\\Data\\\\Labels\"\n",
    "figures_path = \"C:\\\\Users\\\\marti\\\\Dropbox\\\\1. KCL\\\\1. Current Modules\\\\6. SPM\\\\1. Analysis\\\\NLP\\\\Data\\\\Figures\"\n",
    "sessions_path = \"C:\\\\Users\\\\marti\\\\Dropbox\\\\1. KCL\\\\1. Current Modules\\\\6. SPM\\\\1. Analysis\\\\NLP\\\\Data\\\\Sessions\"\n",
    "results_path = \"C:\\\\Users\\\\marti\\\\Dropbox\\\\1. KCL\\\\1. Current Modules\\\\6. SPM\\\\1. Analysis\\\\NLP\\\\Data\\\\Results\"\n",
    "\n",
    "labels = binary_labels # use either test_labels or binary_labels for now\n",
    "\n",
    "if labels == stroke_labels: current_labels = 'stroke'\n",
    "if labels == binary_labels: current_labels = 'abnormal'\n",
    "if labels == test_labels: current_labels = 'test'"
   ]
  },
  {
   "cell_type": "code",
   "execution_count": 3,
   "metadata": {},
   "outputs": [],
   "source": [
    "# Create pandas dataframes\n",
    "df_raw = pd.read_csv(reports,encoding = \"ISO-8859-1\", dtype={\"Code\": 'O',}) # Column 17 \"Code\" reports a mixed value error on import without specifying it as Python Object \n",
    "df_labels = pd.read_excel(labels) "
   ]
  },
  {
   "cell_type": "code",
   "execution_count": 4,
   "metadata": {},
   "outputs": [],
   "source": [
    "# Remove NaN, <18 yo, and brief reports.\n",
    "df_raw = df_raw[~df_raw[\"Report Text\"].isnull()] # remove the lines with missing reports\n",
    "df_raw = df_raw[~df_raw['DOB'].isnull()] # remove missing DOB\n",
    "df_raw = df_raw[df_raw['Report Text'].map(len) > 10] # include reports with length greater than\n",
    "df_raw = df_raw[(df_raw['Event Year'].astype(int) - df_raw['DOB'].str[-4:].astype(int))>18] # remove under 18\n",
    "df_raw = df_raw.reset_index()\n",
    "\n",
    "#df_raw.head()\n",
    "# dob_mask.head(50)"
   ]
  },
  {
   "cell_type": "code",
   "execution_count": 5,
   "metadata": {},
   "outputs": [],
   "source": [
    "# Replicate the format of Sinai data, but use csv - this means we can't use all of their code\n",
    "# Sinai code uses XLS, so would have to cap df_raw_filter to some smaller subset\n",
    "\n",
    "# print(df_raw.columns)\n",
    "df_raw_filter = df_raw.loc[:,[\"Accession\", \"Report Text\"]]\n",
    "df_raw_filter.columns=[\"Accession Number\", \"Report Text\"]\n",
    "df_raw_filter.to_csv(reports_path+'\\\\raw_data_filtered.csv',header = True, index = False)\n",
    "reports_filter = reports_path+'\\\\raw_data_filtered.csv'\n"
   ]
  },
  {
   "cell_type": "code",
   "execution_count": 6,
   "metadata": {},
   "outputs": [],
   "source": [
    "filter_columns = [' Accession ', ' Fazekas ', ' Supratentorial Atrophy ',\n",
    "        ' Infratentorial Atrophy ', ' Mass ', ' Vascular ', ' Damage ',\n",
    "        ' Acute Stroke ', ' Haemorrhage ', ' Hydrocephalus ',\n",
    "        ' White Matter Inflammation ', ' Foreign Body ', ' Intracranial ',\n",
    "        ' Extracranial '] # select accession and other variables\n",
    "df_labels_filter = df_labels[filter_columns] \n",
    "df_labels_filter = df_labels_filter.rename(columns = {' Accession ':'Accession Number'}) # rename to match the other file\n",
    "\n",
    "# We can use excel for this one bc # of labels will always < 65k. Also, build_train_test_corpus requires xls\n",
    "# df_labels_filter[\"Accession Number\"] = df_labels_filter.loc[:,\"Accession Number\"].str[3:]\n",
    "df_labels_filter.to_excel(labels_path+'\\\\labels_filtered.xls',header = True, index = False)\n",
    "labels_filter = labels_path+'\\\\labels_filtered.xls'"
   ]
  },
  {
   "cell_type": "code",
   "execution_count": 7,
   "metadata": {},
   "outputs": [],
   "source": [
    "# this is a replacement of the get_label_indeces function\n",
    "# ra.get_labeled_indices(reports_path, labels_filter, train_index_override)\n",
    "label_ids = df_labels_filter['Accession Number']\n",
    "mask_labels = df_raw_filter['Accession Number'].isin(label_ids.tolist()) # true/false for the ones in the list"
   ]
  },
  {
   "cell_type": "code",
   "execution_count": 8,
   "metadata": {},
   "outputs": [
    {
     "name": "stderr",
     "output_type": "stream",
     "text": [
      "  0%|                                     | 56/108602 [00:00<03:17, 548.99it/s]"
     ]
    },
    {
     "name": "stdout",
     "output_type": "stream",
     "text": [
      "preprocessing reports\n"
     ]
    },
    {
     "name": "stderr",
     "output_type": "stream",
     "text": [
      "100%|█████████████████████████████████| 108602/108602 [03:31<00:00, 512.69it/s]\n"
     ]
    }
   ],
   "source": [
    "# Create a list of stopwords and process data\n",
    "stop_words = set(stopwords.words('english')) # could add MRI etc to this\n",
    "preprocessed = ra.preprocess_data(df_raw_filter,stop_words, stem_words=True) # can change to false with d2v, but didn't seem to help"
   ]
  },
  {
   "cell_type": "markdown",
   "metadata": {},
   "source": [
    "### Build Corpus"
   ]
  },
  {
   "cell_type": "code",
   "execution_count": 9,
   "metadata": {},
   "outputs": [
    {
     "name": "stderr",
     "output_type": "stream",
     "text": [
      "  0%|                                   | 309/108602 [00:00<00:35, 3089.83it/s]"
     ]
    },
    {
     "name": "stdout",
     "output_type": "stream",
     "text": [
      "creating n-grams\n"
     ]
    },
    {
     "name": "stderr",
     "output_type": "stream",
     "text": [
      "100%|████████████████████████████████| 108602/108602 [00:27<00:00, 4007.22it/s]\n"
     ]
    },
    {
     "name": "stdout",
     "output_type": "stream",
     "text": [
      "number of unique n-grams: 4282825\n",
      "number of unique n-grams after filtering out low frequency tokens: 146163\n"
     ]
    }
   ],
   "source": [
    "# Create n-grams  \n",
    "N_THRESH_CORPUS = 10 # ignore any n-grams that appear fewer than N times in the entire corpus\n",
    "n_gram_sizes = [1,2,3,4] # need to make sure we can use 4 - their examples are 3 max \n",
    "ngram_list = ra.create_ngrams(preprocessed, mask_labels, n_gram_sizes, N_THRESH_CORPUS)\n",
    "\n",
    "## notes from david: set n_gram = 1 for gensim"
   ]
  },
  {
   "cell_type": "code",
   "execution_count": 10,
   "metadata": {},
   "outputs": [],
   "source": [
    "# Split the sets for training & testing\n",
    "# Note that this function requires xls for label file\n",
    "# This can take a while - could add an indicator in the future\n",
    "\n",
    "TRAIN_INDEX_OVERRIDE = [0] # This would be a list of indices for which to ignore the labels if all of the training data was labelled\n",
    "corpus, train_corpus, test_corpus, dictionary, labeled_indices = ra.build_train_test_corpus(df_raw_filter, ngram_list, labels_filter, TRAIN_INDEX_OVERRIDE)"
   ]
  },
  {
   "cell_type": "markdown",
   "metadata": {},
   "source": [
    "### Characterize the corpus"
   ]
  },
  {
   "cell_type": "code",
   "execution_count": 41,
   "metadata": {},
   "outputs": [],
   "source": [
    "# Characterize the corpus - adapted from https://swizec.com/blog/measuring-vocabulary-richness-with-python/swizec/2528\n",
    "def get_yules(tokens):\n",
    "    token_counter = collections.Counter(tok.upper() for tok in tokens)\n",
    "    m1 = sum(token_counter.values())\n",
    "    m2 = sum([freq ** 2 for freq in token_counter.values()])\n",
    "    i = (m1*m1) / (m2-m1)\n",
    "    k = 1/i * 10000\n",
    "    return (k, i)"
   ]
  },
  {
   "cell_type": "code",
   "execution_count": 31,
   "metadata": {},
   "outputs": [],
   "source": [
    "# Flatten the list of lists into a list for complexity analysis\n",
    "flat_preprocessed = []\n",
    "for sublist in preprocessed:\n",
    "    for item in sublist:\n",
    "        flat_preprocessed.append(item)"
   ]
  },
  {
   "cell_type": "code",
   "execution_count": 42,
   "metadata": {},
   "outputs": [],
   "source": [
    "k, i = get_yules(flat_preprocessed)\n",
    "unique_words = collections.Counter(flat_preprocessed).keys()"
   ]
  },
  {
   "cell_type": "code",
   "execution_count": 47,
   "metadata": {},
   "outputs": [],
   "source": [
    "from nltk.corpus import twitter_samples, reuters, gutenberg "
   ]
  },
  {
   "cell_type": "code",
   "execution_count": 53,
   "metadata": {},
   "outputs": [
    {
     "name": "stdout",
     "output_type": "stream",
     "text": [
      "<TwitterCorpusReader in 'C:\\\\Users\\\\marti\\\\AppData\\\\Roaming\\\\nltk_data\\\\corpora\\\\twitter_samples'>\n"
     ]
    }
   ],
   "source": [
    "print(twitter_samples)"
   ]
  },
  {
   "cell_type": "code",
   "execution_count": 43,
   "metadata": {},
   "outputs": [
    {
     "name": "stdout",
     "output_type": "stream",
     "text": [
      "Yule I: 47.38222603541919\n",
      "Yule K: 211.04960312596532\n",
      "Unique tokens: 33770\n",
      "Total tokens: 8182337\n",
      "TTR: 0.004127182735201447\n"
     ]
    }
   ],
   "source": [
    "print('Yule I:',i)\n",
    "print('Yule K:',k)\n",
    "print('Unique tokens:',len(unique_words))\n",
    "#yule_corpus = get_yules(corpus)\n",
    "#print(yule_corpus)\n",
    "print('Total tokens:', len(flat_preprocessed))\n",
    "print('TTR:', len(unique_words)/len(flat_preprocessed))"
   ]
  },
  {
   "cell_type": "markdown",
   "metadata": {},
   "source": [
    "# SORT THIS OUT?"
   ]
  },
  {
   "cell_type": "code",
   "execution_count": 62,
   "metadata": {},
   "outputs": [],
   "source": [
    "# I'm pretty sure \"d2v_inputs\" is the same as \"preprocessed\" but generate_labeled_data_features requires both,\n",
    "# and I can't really tell how they're different\n",
    "\n",
    "d2v_inputs = ra.remove_infrequent_tokens(preprocessed, N_THRESH_CORPUS, mask_labels)"
   ]
  },
  {
   "cell_type": "code",
   "execution_count": 64,
   "metadata": {},
   "outputs": [
    {
     "name": "stdout",
     "output_type": "stream",
     "text": [
      "106610 unlabeled reports for featurization, 1992 labeled reports for modeling\n"
     ]
    }
   ],
   "source": [
    "# Create training sets\n",
    "unlabeled_corpus, labeled_corpus, total_unlabeled_words = ra.build_d2v_corpora(df_raw_filter, preprocessed,labeled_indices)"
   ]
  },
  {
   "cell_type": "code",
   "execution_count": 71,
   "metadata": {},
   "outputs": [],
   "source": [
    "# Establish variables\n",
    "D2V_EPOCHS = 20 # recommended by Sinai\n",
    "DIM_DOC2VEC = 50 # Dimensionality of doc2vec manifold; recommend value in 50 to 400\n",
    "W2V_DM = 1\n",
    "W2V_WINDOW = 3\n",
    "SILVER_THRESHOLD = \"mean\" # can be [\"mean\",\"mostlikely\"]\n",
    "DO_PARAGRAPH_VECTOR = False # True to use word2vec-based paragraph vector embedding fatures\n",
    "DO_BOW = True\n",
    "DO_WORD2VEC = False  # True to use word2vec-based average word embedding fatures\n",
    "N_THRESH_OUTCOMES = 100 # do not train models for labels that don't have at least this many positive and negative examples\n",
    "pred_type = \"combined\" # a label for results\n",
    "ASSIGNFOLD_USING_ROW=False\n",
    "SILVER_THRESHOLD=\"fiftypct\"\n",
    "\n",
    "if DO_PARAGRAPH_VECTOR == True: model_name = 'd2v'\n",
    "if DO_BOW == True: model_name = 'BOW'\n",
    "if DO_WORD2VEC == True: model_name = 'w2v'\n",
    "\n",
    "if(DO_BOW and DO_WORD2VEC and DO_PARAGRAPH_VECTOR): model_name= 'all'\n",
    "if(DO_BOW and DO_WORD2VEC and not DO_PARAGRAPH_VECTOR): model_name = 'bow_w2v'\n",
    "if(DO_BOW and not DO_WORD2VEC and DO_PARAGRAPH_VECTOR): model_name = 'bow_d2v'\n",
    "if(not DO_BOW and DO_WORD2VEC and DO_PARAGRAPH_VECTOR): model_name = 'w2v_d2v'\n",
    "\n"
   ]
  },
  {
   "cell_type": "code",
   "execution_count": 66,
   "metadata": {},
   "outputs": [],
   "source": [
    "def train_d2v(unlabeled_docs, labeled_docs, D2V_EPOCH, DIM_DOC2VEC, W2V_DM, W2V_WINDOW, total_unlabeled_words):\n",
    "\t\"\"\"\n",
    "\tTrain doc2vec/word2vec model.\n",
    "\tArgs:\n",
    "\t\tunlabeled_docs: unlabeled corpus\n",
    "\t\tlabeled_docs: labeled corpus\n",
    "\t\tD2V_EPOCHS: number of epochs to train d2v model; 20 has worked well in our experiments; parameter for gensim doc2vec\n",
    "\t\tDIM_DOC2VEC: dimensionality of embedding vectors, we explored values 50-800; parameter for gensim doc2vec\n",
    "\t\tW2V_DM: 1 is PV-DM, otherwise PV-DBOW; parameter for gensim doc2vec\n",
    "\t\tW2V_WINDOW: number of words window to use  in doc2vec model; parameter for gensim doc2vec\n",
    "\t\ttotal_unlabeled_words: total words in unlabeled corpus; argument for gensim doc2vec\n",
    "\tReturns:\n",
    "\t\td2vmodel: trained doc2vec model.\n",
    "\t\"\"\"\n",
    "\n",
    "\tcores = multiprocessing.cpu_count()\n",
    "\tassert gensim.models.doc2vec.FAST_VERSION > -1, \"speed up\"\n",
    "\tprint(\"started doc2vec training\")\n",
    "\td2vmodel = gensim.models.Doc2Vec(dm=W2V_DM, size=DIM_DOC2VEC, window=W2V_WINDOW, negative=5, hs=0, min_count=2, workers=cores)\n",
    "\td2vmodel.build_vocab(unlabeled_docs + labeled_docs)  \n",
    "\td2vmodel.train(unlabeled_docs, total_words=total_unlabeled_words, epochs=D2V_EPOCH)\n",
    "\tprint(\"finished doc2vec training\")\n",
    "\treturn d2vmodel"
   ]
  },
  {
   "cell_type": "code",
   "execution_count": 67,
   "metadata": {},
   "outputs": [
    {
     "name": "stdout",
     "output_type": "stream",
     "text": [
      "started doc2vec training\n"
     ]
    },
    {
     "name": "stderr",
     "output_type": "stream",
     "text": [
      "c:\\users\\marti\\dropbox\\15607~1.kcl\\1c4ea~1.cur\\6c9d3~1.spm\\19e96~1.ana\\nlp\\lib\\site-packages\\gensim\\models\\doc2vec.py:574: UserWarning: The parameter `size` is deprecated, will be removed in 4.0.0, use `vector_size` instead.\n",
      "  warnings.warn(\"The parameter `size` is deprecated, will be removed in 4.0.0, use `vector_size` instead.\")\n"
     ]
    },
    {
     "name": "stdout",
     "output_type": "stream",
     "text": [
      "finished doc2vec training\n"
     ]
    }
   ],
   "source": [
    "# Train\n",
    "d2vmodel = train_d2v(unlabeled_corpus, labeled_corpus, D2V_EPOCHS, DIM_DOC2VEC, \n",
    "                        W2V_DM, W2V_WINDOW, total_unlabeled_words)"
   ]
  },
  {
   "cell_type": "code",
   "execution_count": 72,
   "metadata": {},
   "outputs": [
    {
     "name": "stderr",
     "output_type": "stream",
     "text": [
      " 11%|████                                 | 219/1992 [00:00<00:00, 2189.88it/s]"
     ]
    },
    {
     "name": "stdout",
     "output_type": "stream",
     "text": [
      "generating features\n"
     ]
    },
    {
     "name": "stderr",
     "output_type": "stream",
     "text": [
      "100%|████████████████████████████████████| 1992/1992 [00:00<00:00, 2101.15it/s]\n"
     ]
    }
   ],
   "source": [
    "# Create features for Lasso log reg\n",
    "bow_matrix, pv_matrix, w2v_matrix, accid_list, orig_text, orig_input = ra.generate_labeled_data_features(labels_filter,labeled_indices,\n",
    "                                                                                                         DIM_DOC2VEC, df_raw_filter,  \n",
    "                                                                                                         preprocessed, DO_PARAGRAPH_VECTOR, \n",
    "                                                                                                         DO_WORD2VEC, dictionary, \n",
    "                                                                                                         corpus, d2vmodel, d2v_inputs)\n"
   ]
  },
  {
   "cell_type": "code",
   "execution_count": 73,
   "metadata": {},
   "outputs": [],
   "source": [
    "# Generate dataframe of labels to be used in Lasso logistic regressions\n",
    "# EDITED range in for loop to skip the IDs as variables; removed IDs right after loop\n",
    "def generate_outcomes(labeled_file, accid_list, N_THRESH_OUTCOMES):\n",
    "\n",
    "    \"\"\"\n",
    "    Generate dataframe of labels to be used in Lasso logistic regressions\n",
    "    Args:\n",
    "        labeled_file: path to file with labels and accession ids\n",
    "        accid_list: list of accession ids of each row in the labeled data that are also present in exported reports; \n",
    "                    needed to eliminate labeled reports for which we have no text (mistranscribed accession IDs, etc.)\n",
    "        N_THRESH_OUTCOMES: eliminate outcomes that don't have this many positive / negative examples\n",
    "    Returns:\n",
    "        eligible_outcomes_aligned: dataframe of labels eligible for prediction\n",
    "        all_outcomes_aligned: dataframe of all labels\n",
    "        N_LABELS: total number of labels we predict\n",
    "        outcome_header_list: list of headers corresponding to each label\n",
    "    \"\"\"    \n",
    "    outcomes = pd.read_excel(labeled_file)\n",
    "    outcomes.set_index('Accession Number')\n",
    "    outcomes_aligned2 = pd.DataFrame(data=accid_list, index=accid_list, columns=['Accession Number'])\n",
    "    all_outcomes_aligned = pd.merge(outcomes_aligned2, outcomes, sort=False)\n",
    "\n",
    "    N_LABELS = all_outcomes_aligned.shape[1]\n",
    "    outcome_remove=[]\n",
    "    print('total labels:'+str(N_LABELS))\n",
    "\n",
    "    for i in range(1,N_LABELS): #start from 1 to skip the IDs\n",
    "        check=sum(all_outcomes_aligned.iloc[:,i])\n",
    "\n",
    "        if(check<N_THRESH_OUTCOMES):\n",
    "            outcome_remove.append(i)\n",
    "        elif(check>((all_outcomes_aligned.shape)[0]-N_THRESH_OUTCOMES)):\n",
    "            outcome_remove.append(i)\n",
    "        elif(math.isnan(check)):\n",
    "            outcome_remove.append(i)\n",
    "\n",
    "    outcome_remove.append(0) # added this to remove the accession IDs as \"outcomes\"\n",
    "    eligible_outcomes_aligned=all_outcomes_aligned.drop(all_outcomes_aligned.columns[outcome_remove],axis=1)\n",
    "\n",
    "    N_LABELS=eligible_outcomes_aligned.shape[1]\n",
    "    print(\"labels eligible for inference:\"+str(N_LABELS))\n",
    "\n",
    "    outcome_header_list=list(eligible_outcomes_aligned)\n",
    "    outcome_header_list=[x.replace(\",\",\".\") for x in outcome_header_list]\n",
    "    outcome_header_list=\",\".join(outcome_header_list)\n",
    "\n",
    "    return eligible_outcomes_aligned,all_outcomes_aligned, N_LABELS, outcome_header_list"
   ]
  },
  {
   "cell_type": "code",
   "execution_count": 74,
   "metadata": {},
   "outputs": [
    {
     "name": "stdout",
     "output_type": "stream",
     "text": [
      "total labels:14\n",
      "labels eligible for inference:1\n"
     ]
    }
   ],
   "source": [
    "# Create input for Lasso\n",
    "eligible_outcomes_aligned, all_outcomes_aligned, N_LABELS, outcome_header_list = generate_outcomes(labels_filter, \n",
    "                                                                                              accid_list, N_THRESH_OUTCOMES)"
   ]
  },
  {
   "cell_type": "code",
   "execution_count": 75,
   "metadata": {},
   "outputs": [],
   "source": [
    "# initiate predictor_matrix before generating silver standard labels -- use whatever features are generated (word2vec average word embeddings, bow features, paragraph vector matrix)\n",
    "if(DO_BOW and DO_WORD2VEC and DO_PARAGRAPH_VECTOR): combined=np.hstack((bow_matrix,w2v_matrix,pv_matrix))\n",
    "\n",
    "if(DO_BOW and DO_WORD2VEC and not DO_PARAGRAPH_VECTOR): combined=np.hstack((bow_matrix,w2v_matrix))\n",
    "if(DO_BOW and not DO_WORD2VEC and DO_PARAGRAPH_VECTOR): combined=np.hstack((bow_matrix,pv_matrix))\n",
    "if(not DO_BOW and DO_WORD2VEC and DO_PARAGRAPH_VECTOR): combined=np.hstack((w2v_matrix,pv_matrix))\n",
    "\n",
    "if(DO_BOW and not DO_WORD2VEC and not DO_PARAGRAPH_VECTOR): combined=bow_matrix\n",
    "if(not DO_BOW and DO_WORD2VEC and not DO_PARAGRAPH_VECTOR): combined=w2v_matrix\n",
    "if(not DO_BOW and not DO_WORD2VEC and DO_PARAGRAPH_VECTOR): combined=pv_matrix\t\t\n",
    "\n",
    "predictor_matrix = combined\n",
    "\n",
    "headers=[]\n",
    "if(DO_BOW): \t\t\t\theaders=headers + [dictionary[i] for i in dictionary]\n",
    "if(DO_WORD2VEC): \t\t\theaders=headers + [\"W2V\"+str(i) for i in range(0,DIM_DOC2VEC)]\n",
    "if(DO_PARAGRAPH_VECTOR): \theaders=headers + [\"PV\"+str(i) for i in range(0,DIM_DOC2VEC)]\n",
    "    "
   ]
  },
  {
   "cell_type": "code",
   "execution_count": 76,
   "metadata": {},
   "outputs": [],
   "source": [
    "# Export matrices for reloading if needed\n",
    "# pd.DataFrame(predictor_matrix).to_csv(sessions_path+'\\\\w2v_matrix_'+datetime.now().strftime(\"%Y%m%d%H%M%S\")+'.csv',header = True, index = False)\n",
    "# eligible_outcomes_aligned.to_csv(reports_path+'\\\\eligible_outcomes_aligned.csv',header= True, index = False)\n",
    "# predictor_matrix = pd.read_csv(sessions_path+'\\\\bow_matrix_20191208084113.csv')\n",
    "\n",
    "# variable_filename=sessions_path+'variables_'+datetime.now().strftime(\"%Y%m%d%H%M%S\")+'.out'\n",
    "\n",
    "\n",
    "# my_shelf = shelve.open(variable_filename,'n')\n",
    "\n",
    "# for key in dir():\n",
    "#     try:\n",
    "#         my_shelf[key] = globals()[key]\n",
    "#     except:\n",
    "#         #\n",
    "#         # __builtins__, my_shelf, and imported modules can not be shelved.\n",
    "#         #\n",
    "#         print('ERROR shelving: {0}'.format(key))\n",
    "# my_shelf.close()"
   ]
  },
  {
   "cell_type": "markdown",
   "metadata": {},
   "source": [
    "# Simplified classifier"
   ]
  },
  {
   "cell_type": "code",
   "execution_count": 77,
   "metadata": {},
   "outputs": [
    {
     "data": {
      "text/plain": [
       "pandas.core.frame.DataFrame"
      ]
     },
     "execution_count": 77,
     "metadata": {},
     "output_type": "execute_result"
    }
   ],
   "source": [
    "# pick just the acute stroke variable for now\n",
    "# eligible_outcomes_aligned = eligible_outcomes_aligned[' Acute Stroke ']\n",
    "# eligible_outcomes_aligned = eligible_outcomes_aligned[[' Acute Stroke ']].copy()"
   ]
  },
  {
   "cell_type": "code",
   "execution_count": 79,
   "metadata": {},
   "outputs": [],
   "source": [
    "# Split the data and keep constant between reruns\n",
    "\n",
    "test_size = 0.2 # proportion of all labeled data set aside for testing\n",
    "test_rng_seed = 90\n",
    "\n",
    "X = predictor_matrix\n",
    "Y = eligible_outcomes_aligned.to_numpy(dtype=int) \n",
    "Y = Y.ravel()\n",
    "\n",
    "# rng_test = np.random.RandomState(test_rng_seed)\n",
    "# train_indices = rng_test.randint(0,len(Y),len(Y))\n",
    "# len(train_indices)\n",
    "\n",
    "X_train, X_test, Y_train, Y_test = train_test_split(X, Y, test_size = test_size, random_state = test_rng_seed)"
   ]
  },
  {
   "cell_type": "code",
   "execution_count": 80,
   "metadata": {},
   "outputs": [
    {
     "name": "stdout",
     "output_type": "stream",
     "text": [
      "Grid searching...\n",
      "Finished\n"
     ]
    }
   ],
   "source": [
    "print(\"Grid searching...\")\n",
    "max_iter = 1000 # used 1000 to avoid grid search convergence warnings with word2vec (larger dimensionality requires 4000+ iterations)\n",
    "\n",
    "# Tried a BOW split for l1 but results were worse\n",
    "# if DO_BOW == True:\n",
    "#     parameters = { \"penalty\": ['l1'], \n",
    "#            \"C\": [64,32,16,8,4,2,1,0.5,0.25,0.1,0.05,0.025,0.01,0.005]}\n",
    "#     cv = StratifiedKFold(n_splits=5)\n",
    "#     grid_search = GridSearchCV(LogisticRegression(solver='liblinear', max_iter = max_iter), param_grid=parameters, scoring='neg_log_loss', cv=cv)\n",
    "#     grid_search.fit(X_train,np.array(Y_train))\t\t\t\t\n",
    "#     best_parameters0 = grid_search.best_estimator_.get_params()\n",
    "#     classifier = LogisticRegression(**best_parameters0)\n",
    "# else:\n",
    "\n",
    "parameters = { \"penalty\": ['l2'], \n",
    "       \"C\": [64,32,16,8,4,2,1,0.5,0.25,0.1,0.05,0.025,0.01,0.005]}\n",
    "cv = StratifiedKFold(n_splits=5)\n",
    "grid_search = GridSearchCV(LogisticRegression(solver='lbfgs', max_iter = max_iter), param_grid=parameters, scoring='neg_log_loss', cv=cv)\n",
    "grid_search.fit(X_train,np.array(Y_train))\t\t\t\t\n",
    "best_parameters0 = grid_search.best_estimator_.get_params()\n",
    "classifier = LogisticRegression(**best_parameters0)\n",
    "\n",
    "\n",
    "print('Finished')"
   ]
  },
  {
   "cell_type": "code",
   "execution_count": null,
   "metadata": {},
   "outputs": [],
   "source": []
  },
  {
   "cell_type": "code",
   "execution_count": 81,
   "metadata": {},
   "outputs": [
    {
     "name": "stdout",
     "output_type": "stream",
     "text": [
      "Testing data...\n",
      "Test accuracy = 15\n",
      "Test AUC =  0.981\n",
      "Best C value = 0.25\n"
     ]
    }
   ],
   "source": [
    "print(\"Testing data...\")\n",
    "\n",
    "# Initialize variables\n",
    "n_classes = 1 # Hopefully to be dynamic if there are ever more classes\n",
    "threshold = 0.5 # probability threshold for binary classification\n",
    "n_bootstraps = 200 # for calculating the AUC CI \n",
    "rng_seed = 40 # control reproducibility\n",
    "alpha = 0.95\n",
    "\n",
    "fpr_test = dict()\n",
    "tpr_test = dict()\n",
    "roc_auc_test = dict()\n",
    "bootstrapped_scores = []\n",
    "bootstrapped_accuracy= []\n",
    "\n",
    "# Test accuracy \n",
    "Y_score_test = classifier.fit(X_train, Y_train).decision_function(X_test)\n",
    "\n",
    "for i in range(n_classes):\n",
    "    fpr_test[i], tpr_test[i], thresholds = roc_curve(Y_test, Y_score_test) # TPR - sensitivity\n",
    "    roc_auc_test[i] = auc(fpr_test[i], tpr_test[i])\n",
    "\n",
    "\n",
    "probs_test = classifier.predict_proba(X_test)[:,1]\n",
    "preds_test = probs_test>threshold\n",
    "accuracy_test = (preds_test == Y_test).sum()/len(Y_test)\n",
    "\n",
    "# Bootstrap to get the AUC range\n",
    "rng = np.random.RandomState(rng_seed)\n",
    "for i in range(n_bootstraps):\n",
    "    # bootstrap by sampling with replacement on the prediction indices\n",
    "    indices = rng.randint(0, len(preds_test), len(preds_test))\n",
    "    if len(np.unique(Y_test[indices])) < 2:\n",
    "        # We need at least one positive and one negative sample for ROC AUC\n",
    "        # to be defined: reject the sample\n",
    "        continue\n",
    "\n",
    "    score_bootstr = roc_auc_score(Y_test[indices], Y_score_test[indices])\n",
    "    accuracy_bootstr = (preds_test[indices] == Y_test[indices]).sum()/len(Y_test[indices])\n",
    "    bootstrapped_scores.append(score_bootstr)\n",
    "    bootstrapped_accuracy.append(accuracy_bootstr)\n",
    "\n",
    "sorted_scores_auc = np.array(bootstrapped_scores)\n",
    "sorted_scores_auc.sort()\n",
    "confidence_lower_auc = sorted_scores_auc[int((1-alpha)*len(sorted_scores_auc))]\n",
    "confidence_upper_auc = sorted_scores_auc[int(alpha*len(sorted_scores_auc))]\n",
    "\n",
    "sorted_scores_acc = np.array(bootstrapped_accuracy)\n",
    "sorted_scores_acc.sort()\n",
    "confidence_lower_acc = sorted_scores_acc[int((1-alpha)*len(sorted_scores_acc))]\n",
    "confidence_upper_acc = sorted_scores_acc[int(alpha*len(sorted_scores_acc))]\n",
    "\n",
    "# Compute micro-average ROC curve and ROC area\n",
    "fpr_test[\"micro\"], tpr_test[\"micro\"], _ = roc_curve(Y_test.ravel(), Y_score_test.ravel())\n",
    "roc_auc_test[\"micro\"] = auc(fpr_test[\"micro\"], tpr_test[\"micro\"])\n",
    "\n",
    "# Create a custom report matrix\n",
    "tn, fp, fn, tp = confusion_matrix(Y_test,preds_test.astype(int)).ravel()\n",
    "results_matrix_test = pd.DataFrame(data=np.zeros(shape=(1,12),dtype=np.int),\n",
    "                                   columns=['Model','Label','AUC','AUC - Min','AUC - Max',\n",
    "                                            'True +','False +','True -','False -', 'Accuracy','Accuracy - Min','Accuracy - Max'])\n",
    "results_matrix_test.iloc[0,0]=model_name\n",
    "results_matrix_test.iloc[0,1]=eligible_outcomes_aligned.columns[0]\n",
    "results_matrix_test.iloc[0,2]='{:0.3f}'.format(roc_auc_test[0])\n",
    "results_matrix_test.iloc[0,3]=\"{:0.3f}\".format(confidence_lower_auc)\n",
    "results_matrix_test.iloc[0,4]=\"{:0.3f}\".format(confidence_upper_auc)\n",
    "results_matrix_test.iloc[0,5]=tp\n",
    "results_matrix_test.iloc[0,6]=fp\n",
    "results_matrix_test.iloc[0,7]=tn\n",
    "results_matrix_test.iloc[0,8]=fn\n",
    "results_matrix_test.iloc[0,9]='{:0.3f}'.format(accuracy_test)\n",
    "results_matrix_test.iloc[0,10]=\" {:0.3f}\".format(confidence_lower_acc) \n",
    "results_matrix_test.iloc[0,11]=\"{:0.3f}\".format(confidence_upper_acc)\n",
    "\n",
    "print('Test accuracy =',results_matrix_test.iloc[0,8])\n",
    "print('Test AUC = ',results_matrix_test.iloc[0,2])\n",
    "print('Best C value =', best_parameters0['C'])\n"
   ]
  },
  {
   "cell_type": "code",
   "execution_count": 82,
   "metadata": {},
   "outputs": [
    {
     "name": "stdout",
     "output_type": "stream",
     "text": [
      "Non Zero weights: 36227\n"
     ]
    },
    {
     "data": {
      "text/plain": [
       " Mass     610\n",
       "dtype: int64"
      ]
     },
     "execution_count": 82,
     "metadata": {},
     "output_type": "execute_result"
    }
   ],
   "source": [
    "print(\"Non Zero weights:\",np.count_nonzero(classifier.coef_))"
   ]
  },
  {
   "cell_type": "code",
   "execution_count": 141,
   "metadata": {},
   "outputs": [
    {
     "name": "stdout",
     "output_type": "stream",
     "text": [
      "['involv', 'mm', 'arachnoid_cyst', 'within', 'right', 'left', 'cyst', 'cerebellar', 'arachnoid', 'like']\n"
     ]
    }
   ],
   "source": [
    "# results_matrix_test\n",
    "\n",
    "# Find the indices of 10 largest coeficcients\n",
    "largest_coef = classifier.coef_[0]\n",
    "indices_largest_coef = np.argpartition(largest_coef,-10)[-10:]\n",
    "\n",
    "largest_coef_labels = []\n",
    "for index in range(len(indices_largest_coef)):\n",
    "    largest_coef_labels.append(dictionary[indices_largest_coef[index]])\n",
    "\n",
    "print(largest_coef_labels)"
   ]
  },
  {
   "cell_type": "code",
   "execution_count": 144,
   "metadata": {},
   "outputs": [
    {
     "data": {
      "text/plain": [
       "108602"
      ]
     },
     "execution_count": 144,
     "metadata": {},
     "output_type": "execute_result"
    }
   ],
   "source": [
    "classifier.coef_[0][1402]\n",
    "dictionary[1402]\n",
    "len(corpus)"
   ]
  },
  {
   "cell_type": "code",
   "execution_count": 87,
   "metadata": {},
   "outputs": [],
   "source": [
    "# find the most informative features - adapted from https://stackoverflow.com/questions/26976362/how-to-get-most-informative-features-for-scikit-learn-classifier-for-different-c\n",
    "\n",
    "# def most_informative(vectorizer, classifier, n=10):\n",
    "#     class_labels = classifier.classes_\n",
    "#     feature_names = vectorizer.get_feature_names()\n",
    "#     topn_class1 = sorted(zip(classifier.coef_[0], feature_names))[:n]\n",
    "#     topn_class2 = sorted(zip(classifier.coef_[0], feature_names))[-n:]\n",
    "\n",
    "#     for coef, feat in topn_class1:\n",
    "#         print(class_labels[0], coef, feat)\n",
    "\n",
    "#     print\n",
    "\n",
    "#     for coef, feat in reversed(topn_class2):\n",
    "#         print(class_labels[1], coef, feat)\n",
    "\n",
    "        "
   ]
  },
  {
   "cell_type": "code",
   "execution_count": 88,
   "metadata": {},
   "outputs": [
    {
     "ename": "AttributeError",
     "evalue": "'numpy.ndarray' object has no attribute 'get_feature_names'",
     "output_type": "error",
     "traceback": [
      "\u001b[1;31m---------------------------------------------------------------------------\u001b[0m",
      "\u001b[1;31mAttributeError\u001b[0m                            Traceback (most recent call last)",
      "\u001b[1;32m<ipython-input-88-75ed6a1b0588>\u001b[0m in \u001b[0;36m<module>\u001b[1;34m\u001b[0m\n\u001b[1;32m----> 1\u001b[1;33m \u001b[0mmost_informative\u001b[0m\u001b[1;33m(\u001b[0m\u001b[0mpredictor_matrix\u001b[0m\u001b[1;33m,\u001b[0m\u001b[0mclassifier\u001b[0m\u001b[1;33m)\u001b[0m\u001b[1;33m\u001b[0m\u001b[1;33m\u001b[0m\u001b[0m\n\u001b[0m",
      "\u001b[1;32m<ipython-input-87-d2e2104f35d3>\u001b[0m in \u001b[0;36mmost_informative\u001b[1;34m(vectorizer, classifier, n)\u001b[0m\n\u001b[0;32m      3\u001b[0m \u001b[1;32mdef\u001b[0m \u001b[0mmost_informative\u001b[0m\u001b[1;33m(\u001b[0m\u001b[0mvectorizer\u001b[0m\u001b[1;33m,\u001b[0m \u001b[0mclassifier\u001b[0m\u001b[1;33m,\u001b[0m \u001b[0mn\u001b[0m\u001b[1;33m=\u001b[0m\u001b[1;36m10\u001b[0m\u001b[1;33m)\u001b[0m\u001b[1;33m:\u001b[0m\u001b[1;33m\u001b[0m\u001b[1;33m\u001b[0m\u001b[0m\n\u001b[0;32m      4\u001b[0m     \u001b[0mclass_labels\u001b[0m \u001b[1;33m=\u001b[0m \u001b[0mclassifier\u001b[0m\u001b[1;33m.\u001b[0m\u001b[0mclasses_\u001b[0m\u001b[1;33m\u001b[0m\u001b[1;33m\u001b[0m\u001b[0m\n\u001b[1;32m----> 5\u001b[1;33m     \u001b[0mfeature_names\u001b[0m \u001b[1;33m=\u001b[0m \u001b[0mvectorizer\u001b[0m\u001b[1;33m.\u001b[0m\u001b[0mget_feature_names\u001b[0m\u001b[1;33m(\u001b[0m\u001b[1;33m)\u001b[0m\u001b[1;33m\u001b[0m\u001b[1;33m\u001b[0m\u001b[0m\n\u001b[0m\u001b[0;32m      6\u001b[0m     \u001b[0mtopn_class1\u001b[0m \u001b[1;33m=\u001b[0m \u001b[0msorted\u001b[0m\u001b[1;33m(\u001b[0m\u001b[0mzip\u001b[0m\u001b[1;33m(\u001b[0m\u001b[0mclassifier\u001b[0m\u001b[1;33m.\u001b[0m\u001b[0mcoef_\u001b[0m\u001b[1;33m[\u001b[0m\u001b[1;36m0\u001b[0m\u001b[1;33m]\u001b[0m\u001b[1;33m,\u001b[0m \u001b[0mfeature_names\u001b[0m\u001b[1;33m)\u001b[0m\u001b[1;33m)\u001b[0m\u001b[1;33m[\u001b[0m\u001b[1;33m:\u001b[0m\u001b[0mn\u001b[0m\u001b[1;33m]\u001b[0m\u001b[1;33m\u001b[0m\u001b[1;33m\u001b[0m\u001b[0m\n\u001b[0;32m      7\u001b[0m     \u001b[0mtopn_class2\u001b[0m \u001b[1;33m=\u001b[0m \u001b[0msorted\u001b[0m\u001b[1;33m(\u001b[0m\u001b[0mzip\u001b[0m\u001b[1;33m(\u001b[0m\u001b[0mclassifier\u001b[0m\u001b[1;33m.\u001b[0m\u001b[0mcoef_\u001b[0m\u001b[1;33m[\u001b[0m\u001b[1;36m0\u001b[0m\u001b[1;33m]\u001b[0m\u001b[1;33m,\u001b[0m \u001b[0mfeature_names\u001b[0m\u001b[1;33m)\u001b[0m\u001b[1;33m)\u001b[0m\u001b[1;33m[\u001b[0m\u001b[1;33m-\u001b[0m\u001b[0mn\u001b[0m\u001b[1;33m:\u001b[0m\u001b[1;33m]\u001b[0m\u001b[1;33m\u001b[0m\u001b[1;33m\u001b[0m\u001b[0m\n",
      "\u001b[1;31mAttributeError\u001b[0m: 'numpy.ndarray' object has no attribute 'get_feature_names'"
     ]
    }
   ],
   "source": []
  },
  {
   "cell_type": "code",
   "execution_count": 26,
   "metadata": {},
   "outputs": [],
   "source": [
    "## Save variables to save time in the future / replicability\n",
    "\n",
    "variable_file = sessions_path+'\\\\'+model_name+' variables '+datetime.now().strftime(\"%Y%m%d%H%M%S\")\n",
    "with open(variable_file, 'wb') as f:\n",
    "    pickle.dump([best_parameters0, \n",
    "                 fpr_test, \n",
    "                 tpr_test, \n",
    "                 roc_auc_test, \n",
    "                 model_name,\n",
    "                 D2V_EPOCHS,\n",
    "                 DIM_DOC2VEC,\n",
    "                 W2V_DM,\n",
    "                 W2V_WINDOW,\n",
    "                 SILVER_THRESHOLD,\n",
    "                 DO_PARAGRAPH_VECTOR,\n",
    "                 DO_BOW,\n",
    "                 DO_WORD2VEC,\n",
    "                 N_THRESH_OUTCOMES,\n",
    "                 pred_type,\n",
    "                 ASSIGNFOLD_USING_ROW,\n",
    "                 SILVER_THRESHOLD],f) # always have the order of parameters, fpr_test, tpr_test, roc_auc_test\n",
    "    "
   ]
  },
  {
   "cell_type": "code",
   "execution_count": 241,
   "metadata": {},
   "outputs": [
    {
     "ename": "ValueError",
     "evalue": "not enough values to unpack (expected 17, got 5)",
     "output_type": "error",
     "traceback": [
      "\u001b[1;31m---------------------------------------------------------------------------\u001b[0m",
      "\u001b[1;31mValueError\u001b[0m                                Traceback (most recent call last)",
      "\u001b[1;32m<ipython-input-241-5de4b482024c>\u001b[0m in \u001b[0;36m<module>\u001b[1;34m\u001b[0m\n\u001b[0;32m      2\u001b[0m \u001b[0mFILENAME\u001b[0m \u001b[1;33m=\u001b[0m \u001b[0msessions_path\u001b[0m\u001b[1;33m+\u001b[0m\u001b[1;34m'\\\\Bag of Words variables 20191208092015'\u001b[0m\u001b[1;33m\u001b[0m\u001b[1;33m\u001b[0m\u001b[0m\n\u001b[0;32m      3\u001b[0m \u001b[1;32mwith\u001b[0m \u001b[0mopen\u001b[0m\u001b[1;33m(\u001b[0m\u001b[0mFILENAME\u001b[0m\u001b[1;33m,\u001b[0m \u001b[1;34m'rb'\u001b[0m\u001b[1;33m)\u001b[0m \u001b[1;32mas\u001b[0m \u001b[0mf\u001b[0m\u001b[1;33m:\u001b[0m\u001b[1;33m\u001b[0m\u001b[1;33m\u001b[0m\u001b[0m\n\u001b[1;32m----> 4\u001b[1;33m     \u001b[0mbest_parameters0\u001b[0m\u001b[1;33m,\u001b[0m \u001b[0mfpr_test\u001b[0m\u001b[1;33m,\u001b[0m \u001b[0mtpr_test\u001b[0m\u001b[1;33m,\u001b[0m \u001b[0mroc_auc_test\u001b[0m\u001b[1;33m,\u001b[0m \u001b[0mmodel_name\u001b[0m\u001b[1;33m,\u001b[0m \u001b[0mD2V_EPOCHS\u001b[0m\u001b[1;33m,\u001b[0m \u001b[0mDIM_DOC2VEC\u001b[0m\u001b[1;33m,\u001b[0m \u001b[0mW2V_DM\u001b[0m\u001b[1;33m,\u001b[0m \u001b[0mW2V_WINDOW\u001b[0m\u001b[1;33m,\u001b[0m \u001b[0mSILVER_THRESHOLD\u001b[0m\u001b[1;33m,\u001b[0m \u001b[0mDO_PARAGRAPH_VECTOR\u001b[0m\u001b[1;33m,\u001b[0m \u001b[0mDO_BOW\u001b[0m\u001b[1;33m,\u001b[0m \u001b[0mDO_WORD2VEC\u001b[0m\u001b[1;33m,\u001b[0m \u001b[0mN_THRESH_OUTCOMES\u001b[0m\u001b[1;33m,\u001b[0m \u001b[0mpred_type\u001b[0m\u001b[1;33m,\u001b[0m \u001b[0mASSIGNFOLD_USING_ROW\u001b[0m\u001b[1;33m,\u001b[0m \u001b[0mSILVER_THRESHOLD\u001b[0m \u001b[1;33m=\u001b[0m \u001b[0mpickle\u001b[0m\u001b[1;33m.\u001b[0m\u001b[0mload\u001b[0m\u001b[1;33m(\u001b[0m\u001b[0mf\u001b[0m\u001b[1;33m)\u001b[0m\u001b[1;33m\u001b[0m\u001b[1;33m\u001b[0m\u001b[0m\n\u001b[0m",
      "\u001b[1;31mValueError\u001b[0m: not enough values to unpack (expected 17, got 5)"
     ]
    }
   ],
   "source": [
    "# if you want to load them, use the following\n",
    "FILENAME = sessions_path+'\\\\Bag of Words variables 20191208092015'\n",
    "with open(FILENAME, 'rb') as f:\n",
    "    best_parameters0, fpr_test, tpr_test, roc_auc_test, model_name, D2V_EPOCHS, DIM_DOC2VEC, W2V_DM, W2V_WINDOW, SILVER_THRESHOLD, DO_PARAGRAPH_VECTOR, DO_BOW, DO_WORD2VEC, N_THRESH_OUTCOMES, pred_type, ASSIGNFOLD_USING_ROW, SILVER_THRESHOLD = pickle.load(f)\n"
   ]
  },
  {
   "cell_type": "code",
   "execution_count": 67,
   "metadata": {},
   "outputs": [],
   "source": [
    "# Save the output for graphing\n",
    "# need to work on making this more dynamic - likely resave all variables except fpr/tpr into results_matrix\n",
    "\n",
    "if(not DO_BOW and not DO_WORD2VEC and DO_PARAGRAPH_VECTOR): \n",
    "    fpr_d2v = fpr_test; tpr_d2v = tpr_test; roc_auc_d2v = roc_auc_test; \n",
    "    results_matrix_d2v = results_matrix_test; confidence_lower_auc_d2v = confidence_lower_auc; \n",
    "    confidence_upper_auc_d2v = confidence_upper_auc;  confidence_lower_acc_d2v = confidence_lower_acc;  confidence_upper_acc_d2v = confidence_upper_acc; \n",
    "    d2v_run = True\n",
    "if(DO_BOW and not DO_WORD2VEC and not DO_PARAGRAPH_VECTOR):\n",
    "    fpr_bow = fpr_test; tpr_bow = tpr_test; roc_auc_bow = roc_auc_test; \n",
    "    results_matrix_bow = results_matrix_test; confidence_lower_auc_bow = confidence_lower_auc; \n",
    "    confidence_upper_auc_bow = confidence_upper_auc;  confidence_lower_acc_bow = confidence_lower_acc;  confidence_upper_acc_bow = confidence_upper_acc; \n",
    "    bow_run = True\n",
    "if(not DO_BOW and DO_WORD2VEC and not DO_PARAGRAPH_VECTOR):\n",
    "    fpr_w2v = fpr_test; tpr_w2v = tpr_test; roc_auc_w2v = roc_auc_test; \n",
    "    results_matrix_w2v = results_matrix_test; confidence_lower_auc_w2v = confidence_lower_auc; \n",
    "    confidence_upper_auc_w2v = confidence_upper_auc;  confidence_lower_acc_w2v = confidence_lower_acc;  confidence_upper_acc_w2v = confidence_upper_acc; \n",
    "    w2v_run = True\n",
    "\n",
    "if(DO_BOW and DO_WORD2VEC and DO_PARAGRAPH_VECTOR): \n",
    "    fpr_all = fpr_test; tpr_all = tpr_test; roc_auc_all = roc_auc_test; \n",
    "    results_matrix_all = results_matrix_test; confidence_lower_auc_all = confidence_lower_auc; \n",
    "    confidence_upper_auc_all = confidence_upper_auc;  confidence_lower_acc_all = confidence_lower_acc;  confidence_upper_acc_all = confidence_upper_acc; \n",
    "    all_run = True\n",
    "if(DO_BOW and DO_WORD2VEC and not DO_PARAGRAPH_VECTOR): \n",
    "    fpr_bow_w2v = fpr_test; tpr_bow\n",
    "    _w2v = tpr_test; roc_auc_bow_w2v = roc_auc_test; \n",
    "    results_matrix_bow_w2v = results_matrix_test; confidence_lower_auc_bow_w2v = confidence_lower_auc; \n",
    "    confidence_upper_auc_bow_w2v = confidence_upper_auc;  confidence_lower_acc_bow_w2v = confidence_lower_acc;  confidence_upper_acc_bow_w2v = confidence_upper_acc; \n",
    "    bow_w2v_run = True\n",
    "if(DO_BOW and not DO_WORD2VEC and DO_PARAGRAPH_VECTOR): \n",
    "    fpr_bow_d2v = fpr_test; tpr_bow_d2v = tpr_test; roc_auc_bow_d2v = roc_auc_test; \n",
    "    results_matrix_bow_d2v = results_matrix_test; confidence_lower_auc_bow_d2v = confidence_lower_auc; \n",
    "    confidence_upper_auc_bow_d2v = confidence_upper_auc;  confidence_lower_acc_bow_d2v = confidence_lower_acc;  confidence_upper_acc_bow_d2v = confidence_upper_acc; \n",
    "    bow_d2v_run = True\n",
    "if(not DO_BOW and DO_WORD2VEC and DO_PARAGRAPH_VECTOR): \n",
    "    fpr_w2v_d2v = fpr_test; tpr_w2v_d2v = tpr_test; roc_auc_w2v_d2v = roc_auc_test; \n",
    "    results_matrix_w2v_d2v = results_matrix_test; confidence_lower_auc_w2v_d2v = confidence_lower_auc; \n",
    "    confidence_upper_auc_w2v_d2v = confidence_upper_auc;  confidence_lower_acc_w2v_d2v = confidence_lower_acc;  confidence_upper_acc_w2v_d2v = confidence_upper_acc; \n",
    "    w2v_d2v_run = True\n",
    "    "
   ]
  },
  {
   "cell_type": "code",
   "execution_count": 161,
   "metadata": {},
   "outputs": [],
   "source": [
    "# Combine the different outputs\n",
    "results_matrix_combined_mass = results_matrix_bow.copy()\n",
    "results_matrix_combined_mass = results_matrix_combined_mass.append(results_matrix_w2v)\n",
    "results_matrix_combined_mass = results_matrix_combined_mass.append(results_matrix_d2v)\n",
    "results_matrix_combined_mass = results_matrix_combined_mass.append(results_matrix_w2v_d2v)\n"
   ]
  },
  {
   "cell_type": "code",
   "execution_count": 164,
   "metadata": {},
   "outputs": [],
   "source": [
    "# Save the output matrix file\n",
    "matrix_file_name = sessions_path+'\\\\results_matrix_combined'+datetime.now().strftime(\"%Y%m%d%H%M%S\")\n",
    "with open(matrix_file_name, 'wb') as f:\n",
    "    pickle.dump([results_matrix_combined_mass],f)\n",
    "    \n",
    "# in the future, add a csv output as well"
   ]
  },
  {
   "cell_type": "code",
   "execution_count": 167,
   "metadata": {},
   "outputs": [
    {
     "data": {
      "image/png": "[encoded data removed]",
      "text/plain": [
       "<Figure size 2000x1200 with 1 Axes>"
      ]
     },
     "metadata": {
      "needs_background": "light"
     },
     "output_type": "display_data"
    }
   ],
   "source": [
    "# Plot AUC\n",
    "\n",
    "lw = 2\n",
    "font = {'family': 'sans-serif', 'weight':'normal','size':16}\n",
    "plt.rc('font',**font)\n",
    "\n",
    "plt.figure(figsize=(10,6), dpi=200)\n",
    "\n",
    "if d2v_run:\n",
    "    plt.plot(fpr_d2v[0], tpr_d2v[0], color='darkgreen', lw=lw, label='Doc2vec ROC curve (area = %0.2f)' % roc_auc_d2v[0])\n",
    "else:\n",
    "    print(\"No D2V curve to display\")\n",
    "if w2v_run: \n",
    "    plt.plot(fpr_w2v[0], tpr_w2v[0], color='darkorange',lw=lw, label='Word2vec ROC curve (area = %0.2f)' % roc_auc_w2v[0])\n",
    "else:\n",
    "    print(\"No W2V curve to display\")\n",
    "if bow_run:\n",
    "    plt.plot(fpr_bow[0], tpr_bow[0], color='lightblue', lw=lw, label='BOW ROC curve (area = %0.2f)' % roc_auc_bow[0])\n",
    "else:\n",
    "    print(\"No BOW curve to display\")\n",
    "# if w2v_d2v_run:\n",
    "#     plt.plot(fpr_w2v_d2v[0], tpr_w2v_d2v[0], color='lightgrey', lw=lw, label='w2v+d2v ROC curve (area = %0.2f)' % roc_auc_w2v_d2v[0])\n",
    "# else:\n",
    "#     print(\"No w2v+d2v curve to display\")\n",
    "\n",
    "## Could try to do shaded area\n",
    "# std_tpr = np.std(tprs, axis=0)\n",
    "# tprs_upper = np.minimum(mean_tpr + std_tpr, 1)\n",
    "# tprs_lower = np.maximum(mean_tpr - std_tpr, 0)    \n",
    "# ax.fill_between(mean_fpr, tprs_lower, tprs_upper, color='grey', alpha=.2,\n",
    "#                 label=r'$\\pm$ 1 std. dev.')\n",
    "    \n",
    "plt.plot([0, 1], [0, 1], color='navy', lw=lw, linestyle='--')\n",
    "plt.xlim([0.0, 1.0])\n",
    "plt.ylim([0.0, 1.0])\n",
    "plt.xlabel('False Positive Rate')\n",
    "plt.ylabel('True Positive Rate')\n",
    "plt.title('Receiver operating characteristic for'+results_matrix_test[0][1])\n",
    "plt.legend(loc=\"lower right\")\n",
    "\n",
    "png_plot = plt.gcf()\n",
    "plt.show()\n",
    "\n",
    "plot_name='\\\\AUC'\n",
    "if d2v_run: plot_name = plot_name+'_doc2vec'\n",
    "if bow_run: plot_name = plot_name+'_bow'\n",
    "if w2v_run: plot_name = plot_name+'_word2vec'\n",
    "# if w2v_d2v_run: plot_name = plot_name+'_w2v+d2v'\n",
    "\n",
    "time_tag = datetime.now().strftime(\"%Y%m%d%H%M%S\")\n",
    "plot_name = figures_path + plot_name+time_tag+'.png'\n",
    "\n",
    "png_plot.savefig(plot_name)\n",
    "\n",
    "    "
   ]
  },
  {
   "cell_type": "code",
   "execution_count": 70,
   "metadata": {},
   "outputs": [],
   "source": [
    "# Visualize the array\n",
    "def plot_embeddings(embeddings_array,DO_PARAGRAPH_VECTOR, DO_BOW, DO_WORD2VEC, figures_path):\n",
    "    \n",
    "    visualisation = 'umap'\n",
    "\n",
    "    if visualisation == 'tsne':\n",
    "        Model = TSNE(n_components=2)\n",
    "    elif visualisation == 'umap':\n",
    "        Model = umap.UMAP()\n",
    "\n",
    "    low_dim_embedding = Model.fit_transform(embeddings_array)\n",
    "    colors = ['r' if label == 1 else 'b' for label in Y]\n",
    "\n",
    "    font = {'family': 'sans-serif', 'weight':'normal','size':16}\n",
    "    plt.rc('font',**font)\n",
    "\n",
    "    fig, ax = plt.subplots(figsize=(10,8))\n",
    "    rounded_embedding = [[round(x[0], 4), round(x[1], 4)] for x in low_dim_embedding]\n",
    "    ax.scatter(x=[x[0] for x in rounded_embedding], y=[x[1] for x in rounded_embedding], c = [C for C in colors],alpha = 0.3)\n",
    "    ax.set_title(\"Low-dimensional visualisation of embeddings\")\n",
    "\n",
    "    png_plot = plt.gcf()\n",
    "    plt.show()\n",
    "\n",
    "    plot_name='\\\\embeddings'\n",
    "\n",
    "    if DO_PARAGRAPH_VECTOR == True: plot_name = plot_name+'_doc2vec'\n",
    "    if DO_BOW == True: plot_name = plot_name+'_bow'\n",
    "    if DO_WORD2VEC == True: plot_name = plot_name+'_word2vec'\n",
    "\n",
    "    time_tag = datetime.now().strftime(\"%Y%m%d%H%M%S\")\n",
    "    plot_name = figures_path + plot_name+time_tag+'.png'\n",
    "    \n",
    "    png_plot.savefig(plot_name)\n",
    "\n",
    "    "
   ]
  },
  {
   "cell_type": "code",
   "execution_count": 268,
   "metadata": {},
   "outputs": [
    {
     "name": "stderr",
     "output_type": "stream",
     "text": [
      "c:\\users\\marti\\dropbox\\15607~1.kcl\\1c4ea~1.cur\\6c9d3~1.spm\\19e96~1.ana\\nlp\\lib\\site-packages\\umap\\spectral.py:229: UserWarning: Embedding a total of 2 separate connected components using meta-embedding (experimental)\n",
      "  n_components\n"
     ]
    },
    {
     "data": {
      "image/png": "[encoded data removed]",
      "text/plain": [
       "<Figure size 720x576 with 1 Axes>"
      ]
     },
     "metadata": {
      "needs_background": "light"
     },
     "output_type": "display_data"
    }
   ],
   "source": [
    "plot_embeddings(bow_matrix,DO_PARAGRAPH_VECTOR, DO_BOW, DO_WORD2VEC, figures_path)"
   ]
  },
  {
   "cell_type": "code",
   "execution_count": 125,
   "metadata": {},
   "outputs": [
    {
     "data": {
      "text/plain": [
       "[0    0.981\n",
       " Name: AUC, dtype: float64, 0    0.969\n",
       " Name: AUC, dtype: float64, 0    0.947\n",
       " Name: AUC, dtype: float64]"
      ]
     },
     "execution_count": 125,
     "metadata": {},
     "output_type": "execute_result"
    }
   ],
   "source": [
    "auc_bars"
   ]
  },
  {
   "cell_type": "code",
   "execution_count": 144,
   "metadata": {},
   "outputs": [
    {
     "name": "stderr",
     "output_type": "stream",
     "text": [
      "c:\\users\\marti\\dropbox\\15607~1.kcl\\1c4ea~1.cur\\6c9d3~1.spm\\19e96~1.ana\\nlp\\lib\\site-packages\\ipykernel_launcher.py:10: DeprecationWarning: np.asscalar(a) is deprecated since NumPy v1.16, use a.item() instead\n",
      "  # Remove the CWD from sys.path while we load stuff.\n",
      "c:\\users\\marti\\dropbox\\15607~1.kcl\\1c4ea~1.cur\\6c9d3~1.spm\\19e96~1.ana\\nlp\\lib\\site-packages\\ipykernel_launcher.py:11: DeprecationWarning: np.asscalar(a) is deprecated since NumPy v1.16, use a.item() instead\n",
      "  # This is added back by InteractiveShellApp.init_path()\n",
      "c:\\users\\marti\\dropbox\\15607~1.kcl\\1c4ea~1.cur\\6c9d3~1.spm\\19e96~1.ana\\nlp\\lib\\site-packages\\ipykernel_launcher.py:12: DeprecationWarning: np.asscalar(a) is deprecated since NumPy v1.16, use a.item() instead\n",
      "  if sys.path[0] == '':\n",
      "c:\\users\\marti\\dropbox\\15607~1.kcl\\1c4ea~1.cur\\6c9d3~1.spm\\19e96~1.ana\\nlp\\lib\\site-packages\\ipykernel_launcher.py:13: DeprecationWarning: np.asscalar(a) is deprecated since NumPy v1.16, use a.item() instead\n",
      "  del sys.path[0]\n",
      "c:\\users\\marti\\dropbox\\15607~1.kcl\\1c4ea~1.cur\\6c9d3~1.spm\\19e96~1.ana\\nlp\\lib\\site-packages\\ipykernel_launcher.py:17: DeprecationWarning: np.asscalar(a) is deprecated since NumPy v1.16, use a.item() instead\n",
      "c:\\users\\marti\\dropbox\\15607~1.kcl\\1c4ea~1.cur\\6c9d3~1.spm\\19e96~1.ana\\nlp\\lib\\site-packages\\ipykernel_launcher.py:18: DeprecationWarning: np.asscalar(a) is deprecated since NumPy v1.16, use a.item() instead\n",
      "c:\\users\\marti\\dropbox\\15607~1.kcl\\1c4ea~1.cur\\6c9d3~1.spm\\19e96~1.ana\\nlp\\lib\\site-packages\\ipykernel_launcher.py:19: DeprecationWarning: np.asscalar(a) is deprecated since NumPy v1.16, use a.item() instead\n",
      "c:\\users\\marti\\dropbox\\15607~1.kcl\\1c4ea~1.cur\\6c9d3~1.spm\\19e96~1.ana\\nlp\\lib\\site-packages\\ipykernel_launcher.py:20: DeprecationWarning: np.asscalar(a) is deprecated since NumPy v1.16, use a.item() instead\n",
      "c:\\users\\marti\\dropbox\\15607~1.kcl\\1c4ea~1.cur\\6c9d3~1.spm\\19e96~1.ana\\nlp\\lib\\site-packages\\ipykernel_launcher.py:45: MatplotlibDeprecationWarning: Support for passing a (n, 1)-shaped error array to errorbar() is deprecated since Matplotlib 3.1 and will be removed in 3.3; pass a 1D array instead.\n",
      "No handles with labels found to put in legend.\n",
      "c:\\users\\marti\\dropbox\\15607~1.kcl\\1c4ea~1.cur\\6c9d3~1.spm\\19e96~1.ana\\nlp\\lib\\site-packages\\ipykernel_launcher.py:53: MatplotlibDeprecationWarning: Support for passing a (n, 1)-shaped error array to errorbar() is deprecated since Matplotlib 3.1 and will be removed in 3.3; pass a 1D array instead.\n",
      "No handles with labels found to put in legend.\n"
     ]
    },
    {
     "data": {
      "image/png": "[encoded data removed]",
      "text/plain": [
       "<Figure size 3200x800 with 2 Axes>"
      ]
     },
     "metadata": {
      "needs_background": "light"
     },
     "output_type": "display_data"
    }
   ],
   "source": [
    "## Plot AUC & accuracy, adapted from https://python-graph-gallery.com/8-add-confidence-interval-on-barplot/\n",
    "\n",
    "x_labels = ['BOW', 'word2vec', 'doc2vec','w2v + d2v']\n",
    "# width of the bars\n",
    "barWidth = 0.6\n",
    " \n",
    "# Choose the height of the bars\n",
    "\n",
    "auc_bars = []\n",
    "auc_bars.append(np.asscalar(results_matrix_bow['AUC'].astype(float)))\n",
    "auc_bars.append(np.asscalar(results_matrix_w2v['AUC'].astype(float)))\n",
    "auc_bars.append(np.asscalar(results_matrix_d2v['AUC'].astype(float)))\n",
    "auc_bars.append(np.asscalar(results_matrix_w2v_d2v['AUC'].astype(float)))\n",
    "\n",
    "\n",
    "accuracy_bars = []\n",
    "accuracy_bars.append(np.asscalar(results_matrix_bow['Accuracy'].astype(float)))\n",
    "accuracy_bars.append(np.asscalar(results_matrix_w2v['Accuracy'].astype(float)))\n",
    "accuracy_bars.append(np.asscalar(results_matrix_d2v['Accuracy'].astype(float)))\n",
    "accuracy_bars.append(np.asscalar(results_matrix_w2v_d2v['Accuracy'].astype(float)))\n",
    "\n",
    "#accuracy_bars = np.asarray([results_matrix_bow['Accuracy'].astype(float), results_matrix_w2v['Accuracy'].astype(float),results_matrix_d2v['Accuracy'].astype(float)])\n",
    "# accuracy_bars = [1,3,1.5]\n",
    "# auc_bars = [5,2,4]\n",
    "\n",
    "# Choose the height of the error bars\n",
    "auc_error = [(results_matrix_bow['AUC - Max'].astype(float)- results_matrix_bow['AUC - Min'].astype(float))/2, \n",
    "              (results_matrix_w2v['AUC - Max'].astype(float)- results_matrix_w2v['AUC - Min'].astype(float))/2, \n",
    "              (results_matrix_d2v['AUC - Max'].astype(float)- results_matrix_d2v['AUC - Min'].astype(float))/2,\n",
    "              (results_matrix_w2v_d2v['AUC - Max'].astype(float) - results_matrix_w2v_d2v['AUC - Min'].astype(float))/2]\n",
    "accuracy_error = [(results_matrix_bow['Accuracy - Max'].astype(float)- results_matrix_bow['Accuracy - Min'].astype(float))/2, \n",
    "                  (results_matrix_w2v['Accuracy - Max'].astype(float)- results_matrix_w2v['Accuracy - Min'].astype(float))/2, \n",
    "                  (results_matrix_d2v['Accuracy - Max'].astype(float)- results_matrix_d2v['Accuracy - Min'].astype(float))/2,\n",
    "                  (results_matrix_w2v_d2v['Accuracy - Max'].astype(float)- results_matrix_w2v_d2v['Accuracy - Min'].astype(float))/2]\n",
    "\n",
    "# Position of bars on X-axis\n",
    "pos_auc = np.arange(len(auc_bars))\n",
    "pos_accuracy = np.arange(len(accuracy_bars))\n",
    "\n",
    "fig, axes = plt.subplots(nrows=1, ncols=2, figsize=(16,4), dpi=200)\n",
    "ax0, ax1 = axes.flatten()\n",
    "colors = ['lightblue', 'darkorange', 'darkgreen', 'lightgrey']\n",
    "\n",
    "# Create accuracy bars\n",
    "ax0.bar(x = pos_accuracy, height = accuracy_bars, width = barWidth, color = colors, edgecolor = 'black', yerr=accuracy_error, capsize=7, tick_label = x_labels)\n",
    "ax0.legend(prop={'size':10})\n",
    "# ax0.ylabel('Accuracy')\n",
    "ax0.set_title('Accuracy')\n",
    "# plt.xticks(x_labels)\n",
    "ax0.set_ylim(bottom = 0.6)\n",
    "\n",
    "# Create AUC bars\n",
    "ax1.bar(x = pos_auc, height = auc_bars, width = barWidth, color = colors, edgecolor = 'black', yerr=auc_error, capsize=7, tick_label = x_labels)\n",
    "ax1.legend(prop={'size': 10})\n",
    "#ax1.ylabel('AUC')\n",
    "ax1.set_title('AUC')\n",
    "ax1.set_ylim(bottom = 0.6)\n",
    "\n",
    "\n",
    "# plt.xticks([r + barWidth for r in range(len(auc_bars))],x_labels)\n",
    "\n",
    "# for i, v in enumerate(x_labels):\n",
    "#     ax0.text(i-.25, \n",
    "#               v/x_labels[i]+100, \n",
    "#               x_labels[i], \n",
    "#               fontsize=18, \n",
    "#               color=colors[i])\n",
    "\n",
    "png_plot = plt.gcf()\n",
    "plt.show()\n",
    "\n",
    "plot_name='\\\\AUC_accuracy'\n",
    "time_tag = datetime.now().strftime(\"%Y%m%d%H%M%S\")\n",
    "plot_name = figures_path + plot_name+time_tag+'.png'\n",
    "png_plot.savefig(plot_name)\n",
    "\n",
    "\n",
    "\n",
    "\n"
   ]
  },
  {
   "cell_type": "markdown",
   "metadata": {},
   "source": [
    "# Sinai Method"
   ]
  },
  {
   "cell_type": "code",
   "execution_count": 184,
   "metadata": {},
   "outputs": [],
   "source": [
    "# Slight modifications to swap out indexing in TF FP TN FN and the randomization process\n",
    "def calc_auc(predictor_matrix,eligible_outcomes_aligned, all_outcomes_aligned,N_LABELS, pred_type, header,ASSIGNFOLD_USING_ROW=False):\n",
    "\n",
    "    train_proportion = 0.6\n",
    "    lasso_models={}\n",
    "    model_types = [\"Lasso\"]\n",
    "\n",
    "    # shuffle the data\n",
    "    eligible_outcomes_aligned.reindex(np.random.permutation(eligible_outcomes_aligned.index)) # swapped out np.random.shuffle(r)\n",
    "\n",
    "    r = list(range(eligible_outcomes_aligned.shape[0]))\n",
    "    np.random.shuffle(r)\n",
    "\n",
    "    assignfold = pd.DataFrame(data=r, columns=['train'])\n",
    "    cutoff = np.floor(train_proportion*eligible_outcomes_aligned.shape[0]).astype(int)\n",
    "\n",
    "    train=assignfold['train']<cutoff\n",
    "    test=assignfold['train']>=cutoff\n",
    "\n",
    "    print(test)\n",
    "    N_TRAIN=eligible_outcomes_aligned.iloc[:cutoff].shape[0]\n",
    "    N_HELDOUT = eligible_outcomes_aligned.iloc[cutoff:].shape[0]\n",
    "\n",
    "    #train = eligible_outcomes_aligned.iloc[:cutoff,[0]]\n",
    "    #test = eligible_outcomes_aligned.iloc[cutoff:,[0]]\n",
    "\n",
    "    print(\"n_train in modeling=\"+str(N_TRAIN))\n",
    "    print(\"n_test in modeling=\"+str(N_HELDOUT))\n",
    "\n",
    "    confusion = pd.DataFrame(data=np.zeros(shape=(eligible_outcomes_aligned.shape[1]*len(model_types),6),dtype=np.int),columns=['Label (with calcs on held out 40 pct)','AUC','True +','False +','True -','False -'])\n",
    "\n",
    "    resultrow=0\n",
    "\n",
    "    for i in range(0,N_LABELS):\n",
    "            PROCEED=True;\n",
    "            #need to make sure we don't have an invalid setting -- ie, a train[x] set of labels that is uniform, else Lasso regression fails\n",
    "            if(len(set(eligible_outcomes_aligned.ix[train,i].tolist())))==1:\n",
    "                PROCEED=False;\n",
    "                raise ValueError (\"fed label to lasso regression with no variation - cannot compute - please investigate data\")\n",
    "\n",
    "            if(PROCEED):\n",
    "\n",
    "                for model_type in model_types:\n",
    "                    if(model_type==\"Lasso\"):\n",
    "                        parameters = { \"penalty\": ['l1'], \n",
    "                                       \"C\": [64,32,16,8,4,2,1,0.5,0.25,0.1,0.05,0.025,0.01,0.005]\n",
    "                                     }\n",
    "                        try:\n",
    "                            cv = StratifiedKFold(n_splits=5)\n",
    "                            grid_search = GridSearchCV(LogisticRegression(solver='liblinear'), param_grid=parameters, scoring='neg_log_loss', cv=cv) ## can change liblinear to \"lbfgs\"\n",
    "                            grid_search.fit(predictor_matrix[train,:],np.array(eligible_outcomes_aligned.ix[train,i]))\t\t\t\t\n",
    "                            best_parameters0 = grid_search.best_estimator_.get_params()\n",
    "                            model0 = LogisticRegression(**best_parameters0)\t\t\t\t\t\n",
    "                        except:\n",
    "                            raise ValueError (\"error in lasso regression - likely data issue, may involve rare labels - please investigate data\")                        \n",
    "                    model0.fit(predictor_matrix[np.array(train),:],eligible_outcomes_aligned.ix[train,i])\n",
    "                    pred0 = model0.predict_proba(predictor_matrix[np.array(test),:])[:,1]\n",
    "                    coef = pd.concat([ pd.DataFrame(headers),pd.DataFrame(np.transpose(model0.coef_))], axis = 1)\t\n",
    "                    df0 = pd.DataFrame({'predict':pred0,'target':eligible_outcomes_aligned.ix[test,i], 'label':all_outcomes_aligned['Accession Number'][test]})\n",
    "\n",
    "                    calc_auc=roc_auc_score(np.array(df0['target']),np.array(df0['predict']))\n",
    "                    if(i%10==0):\n",
    "                        print(\"i=\"+str(i))\n",
    "                    save_name=str(list(eligible_outcomes_aligned.columns.values)[i])\n",
    "\n",
    "                    target_predicted=''.join(e for e in save_name if e.isalnum())\n",
    "\n",
    "                    #confusion: outcome TP TN FP FN\n",
    "                    thresh = np.mean(df0['target'])\n",
    "                    FP=0\n",
    "                    FN=0\n",
    "                    TP=0\n",
    "                    TN=0\n",
    "                    \n",
    "                    # Added for computing ROC curve and ROC area\n",
    "                    fpr = dict()\n",
    "                    tpr = dict()\n",
    "                    roc_auc = dict()\n",
    "                    \n",
    "                    prediction_list = df0[[0]].tolist()\n",
    "                    target_list = df0[[1]].tolist()\n",
    "                    \n",
    "                    \n",
    "                    fpr[0], tpr[0], thresholds = roc_curve(target_list, prediction_list)\n",
    "                    roc_auc[0] = auc(fpr[0], tpr[0])\n",
    "\n",
    "                                       # Compute micro-average ROC curve and ROC area\n",
    "                    fpr[\"micro\"], tpr[\"micro\"], _ = roc_curve(target_list.ravel(), prediction_list.ravel())\n",
    "                    roc_auc[\"micro\"] = auc(fpr[\"micro\"], tpr[\"micro\"])\n",
    "\n",
    "                    for j in df0.index:\n",
    "                        cpred = df0.ix[j][0] # changed from 1 to 0 \n",
    "                        ctarget = df0.ix[j][1] # changed from 2 to 1\n",
    "\n",
    "                        \n",
    "                        if cpred>=thresh and ctarget==1:\n",
    "                            TP+=1\n",
    "                        if cpred<thresh and ctarget==1:\n",
    "                            FN+=1\n",
    "                        if cpred>=thresh and ctarget==0:\n",
    "                            FP+=1\n",
    "                        if cpred<thresh and ctarget==0:\n",
    "                            TN+=1\n",
    "\n",
    "                        \n",
    " \n",
    "\n",
    "                    \n",
    "                    #save results\t\t\n",
    "                    confusion.iloc[resultrow,0]=list(eligible_outcomes_aligned.columns.values)[i]\n",
    "                    confusion.iloc[resultrow,1]=calc_auc\n",
    "                    confusion.iloc[resultrow,2]=TP\n",
    "                    confusion.iloc[resultrow,3]=FP\n",
    "                    confusion.iloc[resultrow,4]=TN\n",
    "                    confusion.iloc[resultrow,5]=FN\n",
    "\n",
    "                    #let's rebuild model using all data before we save it to use for prediction;\n",
    "                    try:\n",
    "                        model0 = LogisticRegression(**best_parameters0)\t\n",
    "                        model0.fit(predictor_matrix,eligible_outcomes_aligned.ix[:,i])                \n",
    "                        lasso_models[i]=model0\n",
    "                    except:\n",
    "                        raise ValueError (\"error in lasso regression - likely data issue, may involve rare labels - please investigate data\")                        \n",
    "\n",
    "                    resultrow+=1\n",
    "\n",
    "    confusion.set_index(confusion.columns[0],inplace=True)\n",
    "    return lasso_models, confusion, fpr, tpr, roc_auc"
   ]
  },
  {
   "cell_type": "code",
   "execution_count": 185,
   "metadata": {},
   "outputs": [
    {
     "name": "stdout",
     "output_type": "stream",
     "text": [
      "0        True\n",
      "1        True\n",
      "2       False\n",
      "3       False\n",
      "4        True\n",
      "        ...  \n",
      "1987     True\n",
      "1988    False\n",
      "1989     True\n",
      "1990    False\n",
      "1991    False\n",
      "Name: train, Length: 1992, dtype: bool\n",
      "n_train in modeling=1195\n",
      "n_test in modeling=797\n"
     ]
    },
    {
     "name": "stderr",
     "output_type": "stream",
     "text": [
      "c:\\users\\marti\\dropbox\\15607~1.kcl\\1c4ea~1.cur\\6c9d3~1.spm\\19e96~1.ana\\nlp\\lib\\site-packages\\ipykernel_launcher.py:37: FutureWarning: \n",
      ".ix is deprecated. Please use\n",
      ".loc for label based indexing or\n",
      ".iloc for positional indexing\n",
      "\n",
      "See the documentation here:\n",
      "http://pandas.pydata.org/pandas-docs/stable/user_guide/indexing.html#ix-indexer-is-deprecated\n",
      "c:\\users\\marti\\dropbox\\15607~1.kcl\\1c4ea~1.cur\\6c9d3~1.spm\\19e96~1.ana\\nlp\\lib\\site-packages\\pandas\\core\\indexing.py:961: FutureWarning: \n",
      ".ix is deprecated. Please use\n",
      ".loc for label based indexing or\n",
      ".iloc for positional indexing\n",
      "\n",
      "See the documentation here:\n",
      "http://pandas.pydata.org/pandas-docs/stable/user_guide/indexing.html#ix-indexer-is-deprecated\n",
      "  return getattr(section, self.name)[new_key]\n",
      "c:\\users\\marti\\dropbox\\15607~1.kcl\\1c4ea~1.cur\\6c9d3~1.spm\\19e96~1.ana\\nlp\\lib\\site-packages\\ipykernel_launcher.py:51: FutureWarning: \n",
      ".ix is deprecated. Please use\n",
      ".loc for label based indexing or\n",
      ".iloc for positional indexing\n",
      "\n",
      "See the documentation here:\n",
      "http://pandas.pydata.org/pandas-docs/stable/user_guide/indexing.html#ix-indexer-is-deprecated\n",
      "c:\\users\\marti\\dropbox\\15607~1.kcl\\1c4ea~1.cur\\6c9d3~1.spm\\19e96~1.ana\\nlp\\lib\\site-packages\\sklearn\\model_selection\\_search.py:814: DeprecationWarning: The default of the `iid` parameter will change from True to False in version 0.22 and will be removed in 0.24. This will change numeric results when test-set sizes are unequal.\n",
      "  DeprecationWarning)\n",
      "c:\\users\\marti\\dropbox\\15607~1.kcl\\1c4ea~1.cur\\6c9d3~1.spm\\19e96~1.ana\\nlp\\lib\\site-packages\\ipykernel_launcher.py:56: FutureWarning: \n",
      ".ix is deprecated. Please use\n",
      ".loc for label based indexing or\n",
      ".iloc for positional indexing\n",
      "\n",
      "See the documentation here:\n",
      "http://pandas.pydata.org/pandas-docs/stable/user_guide/indexing.html#ix-indexer-is-deprecated\n",
      "c:\\users\\marti\\dropbox\\15607~1.kcl\\1c4ea~1.cur\\6c9d3~1.spm\\19e96~1.ana\\nlp\\lib\\site-packages\\pandas\\core\\indexing.py:961: FutureWarning: \n",
      ".ix is deprecated. Please use\n",
      ".loc for label based indexing or\n",
      ".iloc for positional indexing\n",
      "\n",
      "See the documentation here:\n",
      "http://pandas.pydata.org/pandas-docs/stable/user_guide/indexing.html#ix-indexer-is-deprecated\n",
      "  return getattr(section, self.name)[new_key]\n",
      "c:\\users\\marti\\dropbox\\15607~1.kcl\\1c4ea~1.cur\\6c9d3~1.spm\\19e96~1.ana\\nlp\\lib\\site-packages\\ipykernel_launcher.py:59: FutureWarning: \n",
      ".ix is deprecated. Please use\n",
      ".loc for label based indexing or\n",
      ".iloc for positional indexing\n",
      "\n",
      "See the documentation here:\n",
      "http://pandas.pydata.org/pandas-docs/stable/user_guide/indexing.html#ix-indexer-is-deprecated\n",
      "c:\\users\\marti\\dropbox\\15607~1.kcl\\1c4ea~1.cur\\6c9d3~1.spm\\19e96~1.ana\\nlp\\lib\\site-packages\\pandas\\core\\indexing.py:961: FutureWarning: \n",
      ".ix is deprecated. Please use\n",
      ".loc for label based indexing or\n",
      ".iloc for positional indexing\n",
      "\n",
      "See the documentation here:\n",
      "http://pandas.pydata.org/pandas-docs/stable/user_guide/indexing.html#ix-indexer-is-deprecated\n",
      "  return getattr(section, self.name)[new_key]\n"
     ]
    },
    {
     "name": "stdout",
     "output_type": "stream",
     "text": [
      "i=0\n"
     ]
    },
    {
     "ename": "KeyError",
     "evalue": "\"None of [Int64Index([0], dtype='int64')] are in the [columns]\"",
     "output_type": "error",
     "traceback": [
      "\u001b[1;31m---------------------------------------------------------------------------\u001b[0m",
      "\u001b[1;31mKeyError\u001b[0m                                  Traceback (most recent call last)",
      "\u001b[1;32m<ipython-input-185-f714016bd3cb>\u001b[0m in \u001b[0;36m<module>\u001b[1;34m\u001b[0m\n\u001b[0;32m      1\u001b[0m \u001b[1;31m# Create the lasso model using the function defined above\u001b[0m\u001b[1;33m\u001b[0m\u001b[1;33m\u001b[0m\u001b[1;33m\u001b[0m\u001b[0m\n\u001b[1;32m----> 2\u001b[1;33m \u001b[0mlasso_models\u001b[0m\u001b[1;33m,\u001b[0m \u001b[0maccuracy\u001b[0m\u001b[1;33m,\u001b[0m \u001b[0mfpr\u001b[0m\u001b[1;33m,\u001b[0m \u001b[0mtpr\u001b[0m\u001b[1;33m,\u001b[0m \u001b[0mroc_auc\u001b[0m \u001b[1;33m=\u001b[0m \u001b[0mcalc_auc\u001b[0m\u001b[1;33m(\u001b[0m\u001b[0mpredictor_matrix\u001b[0m\u001b[1;33m,\u001b[0m \u001b[0meligible_outcomes_aligned\u001b[0m\u001b[1;33m,\u001b[0m\u001b[0mall_outcomes_aligned\u001b[0m\u001b[1;33m,\u001b[0m\u001b[0mN_LABELS\u001b[0m\u001b[1;33m,\u001b[0m \u001b[0mpred_type\u001b[0m\u001b[1;33m,\u001b[0m\u001b[0mheaders\u001b[0m\u001b[1;33m,\u001b[0m\u001b[0mASSIGNFOLD_USING_ROW\u001b[0m\u001b[1;33m)\u001b[0m\u001b[1;33m\u001b[0m\u001b[1;33m\u001b[0m\u001b[0m\n\u001b[0m",
      "\u001b[1;32m<ipython-input-184-38dcc90696ea>\u001b[0m in \u001b[0;36mcalc_auc\u001b[1;34m(predictor_matrix, eligible_outcomes_aligned, all_outcomes_aligned, N_LABELS, pred_type, header, ASSIGNFOLD_USING_ROW)\u001b[0m\n\u001b[0;32m     78\u001b[0m                     \u001b[0mroc_auc\u001b[0m \u001b[1;33m=\u001b[0m \u001b[0mdict\u001b[0m\u001b[1;33m(\u001b[0m\u001b[1;33m)\u001b[0m\u001b[1;33m\u001b[0m\u001b[1;33m\u001b[0m\u001b[0m\n\u001b[0;32m     79\u001b[0m \u001b[1;33m\u001b[0m\u001b[0m\n\u001b[1;32m---> 80\u001b[1;33m                     \u001b[0mprediction_list\u001b[0m \u001b[1;33m=\u001b[0m \u001b[0mdf0\u001b[0m\u001b[1;33m[\u001b[0m\u001b[1;33m[\u001b[0m\u001b[1;36m0\u001b[0m\u001b[1;33m]\u001b[0m\u001b[1;33m]\u001b[0m\u001b[1;33m.\u001b[0m\u001b[0mtolist\u001b[0m\u001b[1;33m(\u001b[0m\u001b[1;33m)\u001b[0m\u001b[1;33m\u001b[0m\u001b[1;33m\u001b[0m\u001b[0m\n\u001b[0m\u001b[0;32m     81\u001b[0m                     \u001b[0mtarget_list\u001b[0m \u001b[1;33m=\u001b[0m \u001b[0mdf0\u001b[0m\u001b[1;33m[\u001b[0m\u001b[1;33m[\u001b[0m\u001b[1;36m1\u001b[0m\u001b[1;33m]\u001b[0m\u001b[1;33m]\u001b[0m\u001b[1;33m.\u001b[0m\u001b[0mtolist\u001b[0m\u001b[1;33m(\u001b[0m\u001b[1;33m)\u001b[0m\u001b[1;33m\u001b[0m\u001b[1;33m\u001b[0m\u001b[0m\n\u001b[0;32m     82\u001b[0m \u001b[1;33m\u001b[0m\u001b[0m\n",
      "\u001b[1;32mc:\\users\\marti\\dropbox\\15607~1.kcl\\1c4ea~1.cur\\6c9d3~1.spm\\19e96~1.ana\\nlp\\lib\\site-packages\\pandas\\core\\frame.py\u001b[0m in \u001b[0;36m__getitem__\u001b[1;34m(self, key)\u001b[0m\n\u001b[0;32m   2999\u001b[0m             \u001b[1;32mif\u001b[0m \u001b[0mis_iterator\u001b[0m\u001b[1;33m(\u001b[0m\u001b[0mkey\u001b[0m\u001b[1;33m)\u001b[0m\u001b[1;33m:\u001b[0m\u001b[1;33m\u001b[0m\u001b[1;33m\u001b[0m\u001b[0m\n\u001b[0;32m   3000\u001b[0m                 \u001b[0mkey\u001b[0m \u001b[1;33m=\u001b[0m \u001b[0mlist\u001b[0m\u001b[1;33m(\u001b[0m\u001b[0mkey\u001b[0m\u001b[1;33m)\u001b[0m\u001b[1;33m\u001b[0m\u001b[1;33m\u001b[0m\u001b[0m\n\u001b[1;32m-> 3001\u001b[1;33m             \u001b[0mindexer\u001b[0m \u001b[1;33m=\u001b[0m \u001b[0mself\u001b[0m\u001b[1;33m.\u001b[0m\u001b[0mloc\u001b[0m\u001b[1;33m.\u001b[0m\u001b[0m_convert_to_indexer\u001b[0m\u001b[1;33m(\u001b[0m\u001b[0mkey\u001b[0m\u001b[1;33m,\u001b[0m \u001b[0maxis\u001b[0m\u001b[1;33m=\u001b[0m\u001b[1;36m1\u001b[0m\u001b[1;33m,\u001b[0m \u001b[0mraise_missing\u001b[0m\u001b[1;33m=\u001b[0m\u001b[1;32mTrue\u001b[0m\u001b[1;33m)\u001b[0m\u001b[1;33m\u001b[0m\u001b[1;33m\u001b[0m\u001b[0m\n\u001b[0m\u001b[0;32m   3002\u001b[0m \u001b[1;33m\u001b[0m\u001b[0m\n\u001b[0;32m   3003\u001b[0m         \u001b[1;31m# take() does not accept boolean indexers\u001b[0m\u001b[1;33m\u001b[0m\u001b[1;33m\u001b[0m\u001b[1;33m\u001b[0m\u001b[0m\n",
      "\u001b[1;32mc:\\users\\marti\\dropbox\\15607~1.kcl\\1c4ea~1.cur\\6c9d3~1.spm\\19e96~1.ana\\nlp\\lib\\site-packages\\pandas\\core\\indexing.py\u001b[0m in \u001b[0;36m_convert_to_indexer\u001b[1;34m(self, obj, axis, is_setter, raise_missing)\u001b[0m\n\u001b[0;32m   1283\u001b[0m                 \u001b[1;31m# When setting, missing keys are not allowed, even with .loc:\u001b[0m\u001b[1;33m\u001b[0m\u001b[1;33m\u001b[0m\u001b[1;33m\u001b[0m\u001b[0m\n\u001b[0;32m   1284\u001b[0m                 \u001b[0mkwargs\u001b[0m \u001b[1;33m=\u001b[0m \u001b[1;33m{\u001b[0m\u001b[1;34m\"raise_missing\"\u001b[0m\u001b[1;33m:\u001b[0m \u001b[1;32mTrue\u001b[0m \u001b[1;32mif\u001b[0m \u001b[0mis_setter\u001b[0m \u001b[1;32melse\u001b[0m \u001b[0mraise_missing\u001b[0m\u001b[1;33m}\u001b[0m\u001b[1;33m\u001b[0m\u001b[1;33m\u001b[0m\u001b[0m\n\u001b[1;32m-> 1285\u001b[1;33m                 \u001b[1;32mreturn\u001b[0m \u001b[0mself\u001b[0m\u001b[1;33m.\u001b[0m\u001b[0m_get_listlike_indexer\u001b[0m\u001b[1;33m(\u001b[0m\u001b[0mobj\u001b[0m\u001b[1;33m,\u001b[0m \u001b[0maxis\u001b[0m\u001b[1;33m,\u001b[0m \u001b[1;33m**\u001b[0m\u001b[0mkwargs\u001b[0m\u001b[1;33m)\u001b[0m\u001b[1;33m[\u001b[0m\u001b[1;36m1\u001b[0m\u001b[1;33m]\u001b[0m\u001b[1;33m\u001b[0m\u001b[1;33m\u001b[0m\u001b[0m\n\u001b[0m\u001b[0;32m   1286\u001b[0m         \u001b[1;32melse\u001b[0m\u001b[1;33m:\u001b[0m\u001b[1;33m\u001b[0m\u001b[1;33m\u001b[0m\u001b[0m\n\u001b[0;32m   1287\u001b[0m             \u001b[1;32mtry\u001b[0m\u001b[1;33m:\u001b[0m\u001b[1;33m\u001b[0m\u001b[1;33m\u001b[0m\u001b[0m\n",
      "\u001b[1;32mc:\\users\\marti\\dropbox\\15607~1.kcl\\1c4ea~1.cur\\6c9d3~1.spm\\19e96~1.ana\\nlp\\lib\\site-packages\\pandas\\core\\indexing.py\u001b[0m in \u001b[0;36m_get_listlike_indexer\u001b[1;34m(self, key, axis, raise_missing)\u001b[0m\n\u001b[0;32m   1090\u001b[0m \u001b[1;33m\u001b[0m\u001b[0m\n\u001b[0;32m   1091\u001b[0m         self._validate_read_indexer(\n\u001b[1;32m-> 1092\u001b[1;33m             \u001b[0mkeyarr\u001b[0m\u001b[1;33m,\u001b[0m \u001b[0mindexer\u001b[0m\u001b[1;33m,\u001b[0m \u001b[0mo\u001b[0m\u001b[1;33m.\u001b[0m\u001b[0m_get_axis_number\u001b[0m\u001b[1;33m(\u001b[0m\u001b[0maxis\u001b[0m\u001b[1;33m)\u001b[0m\u001b[1;33m,\u001b[0m \u001b[0mraise_missing\u001b[0m\u001b[1;33m=\u001b[0m\u001b[0mraise_missing\u001b[0m\u001b[1;33m\u001b[0m\u001b[1;33m\u001b[0m\u001b[0m\n\u001b[0m\u001b[0;32m   1093\u001b[0m         )\n\u001b[0;32m   1094\u001b[0m         \u001b[1;32mreturn\u001b[0m \u001b[0mkeyarr\u001b[0m\u001b[1;33m,\u001b[0m \u001b[0mindexer\u001b[0m\u001b[1;33m\u001b[0m\u001b[1;33m\u001b[0m\u001b[0m\n",
      "\u001b[1;32mc:\\users\\marti\\dropbox\\15607~1.kcl\\1c4ea~1.cur\\6c9d3~1.spm\\19e96~1.ana\\nlp\\lib\\site-packages\\pandas\\core\\indexing.py\u001b[0m in \u001b[0;36m_validate_read_indexer\u001b[1;34m(self, key, indexer, axis, raise_missing)\u001b[0m\n\u001b[0;32m   1175\u001b[0m                 raise KeyError(\n\u001b[0;32m   1176\u001b[0m                     \"None of [{key}] are in the [{axis}]\".format(\n\u001b[1;32m-> 1177\u001b[1;33m                         \u001b[0mkey\u001b[0m\u001b[1;33m=\u001b[0m\u001b[0mkey\u001b[0m\u001b[1;33m,\u001b[0m \u001b[0maxis\u001b[0m\u001b[1;33m=\u001b[0m\u001b[0mself\u001b[0m\u001b[1;33m.\u001b[0m\u001b[0mobj\u001b[0m\u001b[1;33m.\u001b[0m\u001b[0m_get_axis_name\u001b[0m\u001b[1;33m(\u001b[0m\u001b[0maxis\u001b[0m\u001b[1;33m)\u001b[0m\u001b[1;33m\u001b[0m\u001b[1;33m\u001b[0m\u001b[0m\n\u001b[0m\u001b[0;32m   1178\u001b[0m                     )\n\u001b[0;32m   1179\u001b[0m                 )\n",
      "\u001b[1;31mKeyError\u001b[0m: \"None of [Int64Index([0], dtype='int64')] are in the [columns]\""
     ]
    }
   ],
   "source": [
    "# Create the lasso model using the function defined above\n",
    "lasso_models, accuracy, fpr, tpr, roc_auc = calc_auc(predictor_matrix, eligible_outcomes_aligned,all_outcomes_aligned,N_LABELS, pred_type,headers,ASSIGNFOLD_USING_ROW) "
   ]
  },
  {
   "cell_type": "code",
   "execution_count": 118,
   "metadata": {},
   "outputs": [
    {
     "name": "stdout",
     "output_type": "stream",
     "text": [
      "0       False\n",
      "1        True\n",
      "2       False\n",
      "3       False\n",
      "4        True\n",
      "        ...  \n",
      "1150    False\n",
      "1151     True\n",
      "1152     True\n",
      "1153    False\n",
      "1154    False\n",
      "Name: train, Length: 1155, dtype: bool\n",
      "n_train in modeling=693\n",
      "n_test in modeling=462\n"
     ]
    },
    {
     "name": "stderr",
     "output_type": "stream",
     "text": [
      "c:\\users\\marti\\dropbox\\15607~1.kcl\\1c4ea~1.cur\\6c9d3~1.spm\\19e96~1.ana\\nlp\\lib\\site-packages\\ipykernel_launcher.py:37: FutureWarning: \n",
      ".ix is deprecated. Please use\n",
      ".loc for label based indexing or\n",
      ".iloc for positional indexing\n",
      "\n",
      "See the documentation here:\n",
      "http://pandas.pydata.org/pandas-docs/stable/user_guide/indexing.html#ix-indexer-is-deprecated\n",
      "c:\\users\\marti\\dropbox\\15607~1.kcl\\1c4ea~1.cur\\6c9d3~1.spm\\19e96~1.ana\\nlp\\lib\\site-packages\\pandas\\core\\indexing.py:961: FutureWarning: \n",
      ".ix is deprecated. Please use\n",
      ".loc for label based indexing or\n",
      ".iloc for positional indexing\n",
      "\n",
      "See the documentation here:\n",
      "http://pandas.pydata.org/pandas-docs/stable/user_guide/indexing.html#ix-indexer-is-deprecated\n",
      "  return getattr(section, self.name)[new_key]\n",
      "c:\\users\\marti\\dropbox\\15607~1.kcl\\1c4ea~1.cur\\6c9d3~1.spm\\19e96~1.ana\\nlp\\lib\\site-packages\\ipykernel_launcher.py:51: FutureWarning: \n",
      ".ix is deprecated. Please use\n",
      ".loc for label based indexing or\n",
      ".iloc for positional indexing\n",
      "\n",
      "See the documentation here:\n",
      "http://pandas.pydata.org/pandas-docs/stable/user_guide/indexing.html#ix-indexer-is-deprecated\n",
      "c:\\users\\marti\\dropbox\\15607~1.kcl\\1c4ea~1.cur\\6c9d3~1.spm\\19e96~1.ana\\nlp\\lib\\site-packages\\sklearn\\model_selection\\_search.py:814: DeprecationWarning: The default of the `iid` parameter will change from True to False in version 0.22 and will be removed in 0.24. This will change numeric results when test-set sizes are unequal.\n",
      "  DeprecationWarning)\n",
      "c:\\users\\marti\\dropbox\\15607~1.kcl\\1c4ea~1.cur\\6c9d3~1.spm\\19e96~1.ana\\nlp\\lib\\site-packages\\ipykernel_launcher.py:56: FutureWarning: \n",
      ".ix is deprecated. Please use\n",
      ".loc for label based indexing or\n",
      ".iloc for positional indexing\n",
      "\n",
      "See the documentation here:\n",
      "http://pandas.pydata.org/pandas-docs/stable/user_guide/indexing.html#ix-indexer-is-deprecated\n",
      "c:\\users\\marti\\dropbox\\15607~1.kcl\\1c4ea~1.cur\\6c9d3~1.spm\\19e96~1.ana\\nlp\\lib\\site-packages\\pandas\\core\\indexing.py:961: FutureWarning: \n",
      ".ix is deprecated. Please use\n",
      ".loc for label based indexing or\n",
      ".iloc for positional indexing\n",
      "\n",
      "See the documentation here:\n",
      "http://pandas.pydata.org/pandas-docs/stable/user_guide/indexing.html#ix-indexer-is-deprecated\n",
      "  return getattr(section, self.name)[new_key]\n",
      "c:\\users\\marti\\dropbox\\15607~1.kcl\\1c4ea~1.cur\\6c9d3~1.spm\\19e96~1.ana\\nlp\\lib\\site-packages\\ipykernel_launcher.py:59: FutureWarning: \n",
      ".ix is deprecated. Please use\n",
      ".loc for label based indexing or\n",
      ".iloc for positional indexing\n",
      "\n",
      "See the documentation here:\n",
      "http://pandas.pydata.org/pandas-docs/stable/user_guide/indexing.html#ix-indexer-is-deprecated\n",
      "c:\\users\\marti\\dropbox\\15607~1.kcl\\1c4ea~1.cur\\6c9d3~1.spm\\19e96~1.ana\\nlp\\lib\\site-packages\\pandas\\core\\indexing.py:961: FutureWarning: \n",
      ".ix is deprecated. Please use\n",
      ".loc for label based indexing or\n",
      ".iloc for positional indexing\n",
      "\n",
      "See the documentation here:\n",
      "http://pandas.pydata.org/pandas-docs/stable/user_guide/indexing.html#ix-indexer-is-deprecated\n",
      "  return getattr(section, self.name)[new_key]\n",
      "c:\\users\\marti\\dropbox\\15607~1.kcl\\1c4ea~1.cur\\6c9d3~1.spm\\19e96~1.ana\\nlp\\lib\\site-packages\\ipykernel_launcher.py:75: FutureWarning: \n",
      ".ix is deprecated. Please use\n",
      ".loc for label based indexing or\n",
      ".iloc for positional indexing\n",
      "\n",
      "See the documentation here:\n",
      "http://pandas.pydata.org/pandas-docs/stable/user_guide/indexing.html#ix-indexer-is-deprecated\n",
      "c:\\users\\marti\\dropbox\\15607~1.kcl\\1c4ea~1.cur\\6c9d3~1.spm\\19e96~1.ana\\nlp\\lib\\site-packages\\ipykernel_launcher.py:76: FutureWarning: \n",
      ".ix is deprecated. Please use\n",
      ".loc for label based indexing or\n",
      ".iloc for positional indexing\n",
      "\n",
      "See the documentation here:\n",
      "http://pandas.pydata.org/pandas-docs/stable/user_guide/indexing.html#ix-indexer-is-deprecated\n"
     ]
    },
    {
     "name": "stdout",
     "output_type": "stream",
     "text": [
      "i=0\n"
     ]
    },
    {
     "name": "stderr",
     "output_type": "stream",
     "text": [
      "c:\\users\\marti\\dropbox\\15607~1.kcl\\1c4ea~1.cur\\6c9d3~1.spm\\19e96~1.ana\\nlp\\lib\\site-packages\\ipykernel_launcher.py:98: FutureWarning: \n",
      ".ix is deprecated. Please use\n",
      ".loc for label based indexing or\n",
      ".iloc for positional indexing\n",
      "\n",
      "See the documentation here:\n",
      "http://pandas.pydata.org/pandas-docs/stable/user_guide/indexing.html#ix-indexer-is-deprecated\n"
     ]
    }
   ],
   "source": [
    "# Plot the ROC\n",
    "\n",
    "plt.figure()\n",
    "lw = 2\n",
    "plt.plot(fpr[2], tpr[2], color='darkorange',\n",
    "         lw=lw, label='ROC curve (area = %0.2f)' % roc_auc[2])\n",
    "plt.plot([0, 1], [0, 1], color='navy', lw=lw, linestyle='--')\n",
    "plt.xlim([0.0, 1.0])\n",
    "plt.ylim([0.0, 1.05])\n",
    "plt.xlabel('False Positive Rate')\n",
    "plt.ylabel('True Positive Rate')\n",
    "plt.title('Receiver operating characteristic')\n",
    "plt.legend(loc=\"lower right\")\n",
    "plt.show()"
   ]
  },
  {
   "cell_type": "code",
   "execution_count": 119,
   "metadata": {},
   "outputs": [
    {
     "name": "stderr",
     "output_type": "stream",
     "text": [
      "100%|████████████████████████████████████████████████████████████████████████████| 2000/2000 [00:01<00:00, 1153.52it/s]\n",
      "100%|████████████████████████████████████████████████████████████████████████████| 2000/2000 [00:01<00:00, 1987.10it/s]\n",
      "100%|████████████████████████████████████████████████████████████████████████████| 2000/2000 [00:00<00:00, 2357.92it/s]\n",
      "100%|████████████████████████████████████████████████████████████████████████████| 2000/2000 [00:00<00:00, 2272.46it/s]\n",
      "100%|████████████████████████████████████████████████████████████████████████████| 2000/2000 [00:00<00:00, 2212.62it/s]\n",
      "100%|██████████████████████████████████████████████████████████████████████████████████| 1/1 [00:00<00:00, 1002.70it/s]\n",
      "C:\\Users\\marti\\Dropbox\\1. KCL\\1. Current Modules\\6. SPM\\1. Analysis\\NLP\\rad-report-annotator\\RadReportAnnotator.py:798: FutureWarning: \n",
      ".ix is deprecated. Please use\n",
      ".loc for label based indexing or\n",
      ".iloc for positional indexing\n",
      "\n",
      "See the documentation here:\n",
      "http://pandas.pydata.org/pandas-docs/stable/user_guide/indexing.html#ix-indexer-is-deprecated\n",
      "  if(eligible_outcomes_aligned.ix[outcome_lookup[accno],k]!=pred_outcome_binary_df.iloc[i,k]):\n",
      "c:\\users\\marti\\dropbox\\15607~1.kcl\\1c4ea~1.cur\\6c9d3~1.spm\\19e96~1.ana\\nlp\\lib\\site-packages\\pandas\\core\\indexing.py:961: FutureWarning: \n",
      ".ix is deprecated. Please use\n",
      ".loc for label based indexing or\n",
      ".iloc for positional indexing\n",
      "\n",
      "See the documentation here:\n",
      "http://pandas.pydata.org/pandas-docs/stable/user_guide/indexing.html#ix-indexer-is-deprecated\n",
      "  return getattr(section, self.name)[new_key]\n",
      "C:\\Users\\marti\\Dropbox\\1. KCL\\1. Current Modules\\6. SPM\\1. Analysis\\NLP\\rad-report-annotator\\RadReportAnnotator.py:803: FutureWarning: \n",
      ".ix is deprecated. Please use\n",
      ".loc for label based indexing or\n",
      ".iloc for positional indexing\n",
      "\n",
      "See the documentation here:\n",
      "http://pandas.pydata.org/pandas-docs/stable/user_guide/indexing.html#ix-indexer-is-deprecated\n",
      "  pred_outcome_proba_df.iloc[i,k]=eligible_outcomes_aligned.ix[outcome_lookup[accno],k]\n",
      "C:\\Users\\marti\\Dropbox\\1. KCL\\1. Current Modules\\6. SPM\\1. Analysis\\NLP\\rad-report-annotator\\RadReportAnnotator.py:806: FutureWarning: \n",
      ".ix is deprecated. Please use\n",
      ".loc for label based indexing or\n",
      ".iloc for positional indexing\n",
      "\n",
      "See the documentation here:\n",
      "http://pandas.pydata.org/pandas-docs/stable/user_guide/indexing.html#ix-indexer-is-deprecated\n",
      "  if(eligible_outcomes_aligned.ix[outcome_lookup[accno],k]!=pred_outcome_binary_df.iloc[i,k]):\n",
      "C:\\Users\\marti\\Dropbox\\1. KCL\\1. Current Modules\\6. SPM\\1. Analysis\\NLP\\rad-report-annotator\\RadReportAnnotator.py:807: FutureWarning: \n",
      ".ix is deprecated. Please use\n",
      ".loc for label based indexing or\n",
      ".iloc for positional indexing\n",
      "\n",
      "See the documentation here:\n",
      "http://pandas.pydata.org/pandas-docs/stable/user_guide/indexing.html#ix-indexer-is-deprecated\n",
      "  pred_outcome_binary_df.iloc[i,k]=eligible_outcomes_aligned.ix[outcome_lookup[accno],k]\n"
     ]
    }
   ],
   "source": [
    "inferred_binary_labels, inferred_proba_labels = ra.write_silver_standard_labels(corpus,\n",
    "                                                  N_LABELS,\n",
    "                                                  eligible_outcomes_aligned, \n",
    "                                                  DIM_DOC2VEC, \n",
    "                                                  preprocessed, \n",
    "                                                  DO_BOW, \n",
    "                                                  DO_PARAGRAPH_VECTOR, \n",
    "                                                  DO_WORD2VEC, \n",
    "                                                  dictionary, \n",
    "                                                  d2vmodel, \n",
    "                                                  d2v_inputs, \n",
    "                                                  lasso_models_ra, \n",
    "                                                  accid_list, \n",
    "                                                  labeled_indices, \n",
    "                                                  df_raw_filter, \n",
    "                                                  SILVER_THRESHOLD)"
   ]
  },
  {
   "cell_type": "code",
   "execution_count": 120,
   "metadata": {},
   "outputs": [
    {
     "data": {
      "text/html": [
       "<div>\n",
       "<style scoped>\n",
       "    .dataframe tbody tr th:only-of-type {\n",
       "        vertical-align: middle;\n",
       "    }\n",
       "\n",
       "    .dataframe tbody tr th {\n",
       "        vertical-align: top;\n",
       "    }\n",
       "\n",
       "    .dataframe thead th {\n",
       "        text-align: right;\n",
       "    }\n",
       "</style>\n",
       "<table border=\"1\" class=\"dataframe\">\n",
       "  <thead>\n",
       "    <tr style=\"text-align: right;\">\n",
       "      <th></th>\n",
       "      <th>AUC</th>\n",
       "      <th>True +</th>\n",
       "      <th>False +</th>\n",
       "      <th>True -</th>\n",
       "      <th>False -</th>\n",
       "    </tr>\n",
       "    <tr>\n",
       "      <th>Label (with calcs on held out 40 pct)</th>\n",
       "      <th></th>\n",
       "      <th></th>\n",
       "      <th></th>\n",
       "      <th></th>\n",
       "      <th></th>\n",
       "    </tr>\n",
       "  </thead>\n",
       "  <tbody>\n",
       "    <tr>\n",
       "      <th>Mass</th>\n",
       "      <td>0.959194</td>\n",
       "      <td>195</td>\n",
       "      <td>34</td>\n",
       "      <td>213</td>\n",
       "      <td>20</td>\n",
       "    </tr>\n",
       "  </tbody>\n",
       "</table>\n",
       "</div>"
      ],
      "text/plain": [
       "                                            AUC  True +  False +  True -  \\\n",
       "Label (with calcs on held out 40 pct)                                      \n",
       " Mass                                  0.959194     195       34     213   \n",
       "\n",
       "                                       False -  \n",
       "Label (with calcs on held out 40 pct)           \n",
       " Mass                                       20  "
      ]
     },
     "execution_count": 120,
     "metadata": {},
     "output_type": "execute_result"
    }
   ],
   "source": [
    "lasso_models_ra\n",
    "accuracy\n"
   ]
  },
  {
   "cell_type": "code",
   "execution_count": 127,
   "metadata": {},
   "outputs": [],
   "source": [
    "# \tdef define_config(self, DO_BOW=True, DO_WORD2VEC=False, DO_PARAGRAPH_VECTOR=False,DO_SILVER_STANDARD=True,STEM_WORDS=True,N_GRAM_SIZES=[1],DIM_DOC2VEC=200,N_THRESH_CORPUS=1,N_THRESH_OUTCOMES=1,TRAIN_INDEX_OVERRIDE=[], SILVER_THRESHOLD=\"mean\", NAME_UNID_REPORTS=\"Accession Number\",NAME_TEXT_REPORTS=\"Report Text\"):\n",
    "# \t\t\"\"\"\n",
    "# \t\tSets parameters for RadReportAnnotator.\n",
    "# \t\tArgs:\n",
    "# \t\t\tDO_BOW: True to use indicator bag of words-based features (1 if word present in doc, 0 if not). \n",
    "# \t\t\tDO_WORD2VEC: True to use word2vec-based average word embedding fatures. \n",
    "# \t\t\tDO_PARAGRAPH_VECTOR: True to use word2vec-based paragraph vector embedding fatures. \n",
    "# \t\t\tDO_SILVER_STANDARD: True to infer labels for unlabeled reports.\n",
    "# \t\t\tSTEM_WORDS: True to stem words for BOW analysis; words are unstemmed in doc2vec analysis\n",
    "# \t\t\tN_GRAM_SIZES: Which set of n-grams to use in BOW analysis: [1] = 1 grams only, [3] = 3 grams only, [1,2,3] = 1, 2, and 3- grams.\n",
    "# \t\t\tDIM_DOC2VEC: Dimensionality of doc2vec manifold; recommend value in 50 to 400\n",
    "# \t\t\tN_THRESH_CORPUS: ignore any n-grams that appear fewer than N times in the entire corpus\n",
    "# \t\t\tN_THRESH_OUTCOMES: do not train models for labels that don't have at least this many positive and negative examples. \n",
    "# \t\t\tTRAIN_INDEX_OVERRIDE: list of accession numbers we force to be treated as unlabeled data even though they are labeled (ie, these will *not* be used in Lasso regressions). May be used if all of your reports are labeled, as some unlabeled reports are required for d2v training.\n",
    "# \t\t\tSILVER_THRESHOLD: how to threshold probability predictions in infer_labels to get binary labels. \n",
    "# \t\t\t                  can be [\"mean\",\"mostlikely\"]\n",
    "# \t\t\t                  mean sets any predicted probability greater than population mean to 1, else 0; e.g., prediction 0.10 in a label with average 0.05 is set to 1\n",
    "# \t\t\t                  mostlikely sets any predicted probability >50% to 1, otherwise 0\n",
    "# \t\t\t                  both settings have issues, and class imbalance is a major issue in training convolutional nets.\n",
    "# \t\t\t                  we recommend using probabilities if your model can accomodate it. \n",
    "#  \t\t\tNAME_UNID_REPORTS: column name of accession number / unique report id in the read-in *reports* file. provided for convenience as there may be many report files.\n",
    "# \t\t\tNAME_TEXT_REPORTS: column name of report text in the read-in reports file. provided for convenience as there may be many report files.\n",
    "# \t\tReturns:\n",
    "# \t\t\tNothing\n",
    "# \t\t\"\"\"\n",
    "\n",
    "# \t\tself.DO_BOW=DO_BOW #generate results for bag of words approach?\n",
    "# \t\tself.DO_WORD2VEC=DO_WORD2VEC #generate resultes (tfidf and avg weight) for word2vec approach?\n",
    "# \t\tself.DO_PARAGRAPH_VECTOR=DO_PARAGRAPH_VECTOR #generate results for paragraph vector approach?\n",
    "# \t\tself.DO_SILVER_STANDARD=DO_SILVER_STANDARD\t#generate silver standard labels?\n",
    "# \t\tself.STEM_WORDS=STEM_WORDS #should we stem words for BOW, LDA analysis? (we never stem words or doc2vec/w2v analysis, see below)\n",
    "# \t\tif not N_GRAM_SIZES in ([1],[2],[3],[1,2],[1,3],[1,2,3]):\n",
    "# \t\t\traise ValueError('Invalid N_GRAM_SIZES argument:'+str(N_GRAM_SIZES)+\", please review documentation for proper format (e.g., [1])\")\n",
    "# \t\tself.N_GRAM_SIZES = N_GRAM_SIZES  # how many n-grams to use in BOW, LDA analyses? [1] = 1 grams only, [3] = 3 grams only, [1,2,3] = 1, 2, and 3- grams.\n",
    "# \t\tself.DIM_DOC2VEC = DIM_DOC2VEC #dimensionality of doc2vec manifold\n",
    "# \t\tself.N_THRESH_CORPUS=N_THRESH_CORPUS # delete any n-grams that appear fewer than N times in the entire corpus\n",
    "# \t\tself.N_THRESH_OUTCOMES=N_THRESH_OUTCOMES # delete any predictors that don't have at least N-many positive and negative examples\n",
    "# \t\tself.TRAIN_INDEX_OVERRIDE = TRAIN_INDEX_OVERRIDE # define a list of indices you want to force to be included as unlabeled data even though they are labeled (ie, these will *not* be used for predictions). Some unlabeled reports are required for d2v training.\"\"\"\n",
    "# \t\tself.SILVER_THRESHOLD=SILVER_THRESHOLD\n",
    "# \t\tself.NAME_UNID_REPORTS = NAME_UNID_REPORTS  \n",
    "# \t\tself.NAME_TEXT_REPORTS = NAME_TEXT_REPORTS\n",
    "\n",
    "# \t\tif(self.DO_BOW==False and self.DO_WORD2VEC==False and self.DO_PARAGRAPH_VECTOR==False): raise ValueError(\"DO_BOW and DO_WORD2VEC and DO_PARAGRAPH_VECTOR cannot both be false\")\n"
   ]
  },
  {
   "cell_type": "code",
   "execution_count": 129,
   "metadata": {},
   "outputs": [],
   "source": [
    "# \tdef infer_labels(self):\n",
    "# \t\t\"\"\"\n",
    "# \t\tInfers labels for unlabeled documents.\n",
    "# \t\tPlease run build_corpus() beforehand.\n",
    "# \t\tArguments:\n",
    "# \t\t\tNone\n",
    "# \t\tReturns:\n",
    "# \t\t\tself.inferred_labels: dataframe containing inferred labels\n",
    "# \t\t\"\"\"\n",
    "\n",
    "# \t\t#get the numerical features of text we need to train models for labels\n",
    "# \t\tself.bow_matrix, self.pv_matrix,self.w2v_matrix,self.accid_list,self.orig_text,self.orig_input=generate_labeled_data_features(\n",
    "# \t\t\t\t\t\t\t   self.validation_file,\n",
    "# \t\t\t\t\t\t\t   self.labeled_indices,\n",
    "# \t\t\t\t\t\t\t   self.DIM_DOC2VEC,\n",
    "# \t\t\t\t\t\t\t   self.df_data,\n",
    "# \t\t\t\t\t\t\t   self.processed_reports,\n",
    "# \t\t\t\t\t\t\t   self.DO_PARAGRAPH_VECTOR,\n",
    "# \t\t\t\t\t\t\t   self.DO_WORD2VEC, \n",
    "# \t\t\t\t\t\t\t   self.dictionary,\n",
    "# \t\t\t\t\t\t\t   self.corpus,\n",
    "# \t\t\t\t\t\t\t   self.d2vmodel,\n",
    "# \t\t\t\t\t\t\t   self.d2v_inputs)\n",
    "\n",
    "# \t\t#get and process labels for reports\n",
    "# \t\tself.eligible_outcomes_aligned,self.all_outcomes_aligned, self.N_LABELS, self.outcome_header_list = generate_outcomes(\n",
    "# \t\t\tself.validation_file,\n",
    "# \t\t\tself.accid_list,\n",
    "# \t\t\tself.N_THRESH_OUTCOMES)\n",
    "\n",
    "# \t\t#to generate silver standard labels -- use whatever features are generated (word2vec average word embeddings, bow features, paragraph vector matrix)\n",
    "# \t\tif(self.DO_BOW and self.DO_WORD2VEC and self.DO_PARAGRAPH_VECTOR): self.combined=np.hstack((self.bow_matrix,self.w2v_matrix,self.pv_matrix))\n",
    "\n",
    "# \t\tif(self.DO_BOW and self.DO_WORD2VEC and not self.DO_PARAGRAPH_VECTOR): self.combined=np.hstack((self.bow_matrix,self.w2v_matrix))\n",
    "# \t\tif(self.DO_BOW and not self.DO_WORD2VEC and self.DO_PARAGRAPH_VECTOR): self.combined=np.hstack((self.bow_matrix,self.pv_matrix))\n",
    "# \t\tif(not self.DO_BOW and self.DO_WORD2VEC and self.DO_PARAGRAPH_VECTOR): self.combined=np.hstack((self.w2v_matrix,self.pv_matrix))\n",
    "\n",
    "# \t\tif(self.DO_BOW and not self.DO_WORD2VEC and not self.DO_PARAGRAPH_VECTOR): self.combined=self.bow_matrix\n",
    "# \t\tif(not self.DO_BOW and self.DO_WORD2VEC and not self.DO_PARAGRAPH_VECTOR): self.combined=self.w2v_matrix\n",
    "# \t\tif(not self.DO_BOW and not self.DO_WORD2VEC and self. DO_PARAGRAPH_VECTOR): self.combined=self.pv_matrix\t\t\n",
    "\n",
    "# \t\t#create header for combined predictor matrix so we can interpret coefficients\n",
    "# \t\tself.headers=[]\n",
    "# \t\tif(self.DO_BOW): \t\t\t\tself.headers=self.headers + [self.dictionary[i] for i in self.dictionary]\n",
    "# \t\tif(self.DO_WORD2VEC): \t\t\tself.headers=self.headers + [\"W2V\"+str(i) for i in range(0,self.DIM_DOC2VEC)]\n",
    "# \t\tif(self.DO_PARAGRAPH_VECTOR): \tself.headers=self.headers + [\"PV\"+str(i) for i in range(0,self.DIM_DOC2VEC)]\n",
    "\n",
    "\n",
    "# \t\tpred_type = \"combined\" # a label for results\n",
    "# \t\tprint(\"dimensionality of predictor matrix:\"+str(self.combined.shape))\n",
    "\n",
    "# \t\t#run lasso regressions\n",
    "# \t\tself.lasso_models, self.accuracy = calc_auc(self.combined,self.eligible_outcomes_aligned,self.all_outcomes_aligned,  self.N_LABELS, pred_type, self.headers,self.ASSIGNFOLD_USING_ROW)\n",
    "\n",
    "# \t\t#infer labels\t\n",
    "# \t\tself.inferred_binary_labels, self.inferred_proba_labels = write_silver_standard_labels(self.corpus,\n",
    "# \t\t\tself.N_LABELS,\n",
    "# \t\t\tself.eligible_outcomes_aligned,\n",
    "# \t\t\tself.DIM_DOC2VEC,\n",
    "# \t\t\tself.processed_reports,\n",
    "# \t\t\tself.DO_BOW,\n",
    "# \t\t\tself.DO_PARAGRAPH_VECTOR,\n",
    "# \t\t\tself.DO_WORD2VEC,\n",
    "# \t\t\tself.dictionary,\n",
    "# \t\t\tself.d2vmodel,\n",
    "# \t\t\tself.d2v_inputs,\n",
    "# \t\t\tself.lasso_models,\n",
    "# \t\t\tself.accid_list, \n",
    "# \t\t\tself.labeled_indices,\n",
    "# \t\t\tself.df_data,\n",
    "# \t\t\tself.SILVER_THRESHOLD)\n",
    "# \t\treturn self.inferred_binary_labels, self.inferred_proba_labels"
   ]
  },
  {
   "cell_type": "code",
   "execution_count": 130,
   "metadata": {},
   "outputs": [],
   "source": [
    "# This works, but not as elegant\n",
    "\n",
    "# if predictor_matrix.shape[1]!=len(header):\n",
    "#     print(\"predictor_matrix.shape[1]=\"+str(predictor_matrix.shape[1]))\n",
    "#     print(\"len(header)\"+str(len(header)))\n",
    "#     raise ValueError(\"predictor_matrix shape doesn't match header, investigate\")\n",
    "# all_coef = pd.concat([ pd.DataFrame(header)], axis = 1)\t\n",
    "\n",
    "\n",
    "\n",
    "# train_proportion = 0.6\n",
    "# lasso_models={}\n",
    "# model_types = [\"Lasso\"]\n",
    "\n",
    "# # shuffle the data\n",
    "# eligible_outcomes_aligned.reindex(np.random.permutation(eligible_outcomes_aligned.index)) # swapped out np.random.shuffle(r)\n",
    "\n",
    "# r = list(range(eligible_outcomes_aligned.shape[0]))\n",
    "# np.random.shuffle(r)\n",
    "\n",
    "# assignfold = pd.DataFrame(data=r, columns=['train'])\n",
    "# cutoff = np.floor(train_proportion*eligible_outcomes_aligned.shape[0]).astype(int)\n",
    "\n",
    "# train=assignfold['train']<cutoff\n",
    "# test=assignfold['train']>=cutoff\n",
    "\n",
    "# print(test)\n",
    "# N_TRAIN=eligible_outcomes_aligned.iloc[:cutoff].shape[0]\n",
    "# N_HELDOUT = eligible_outcomes_aligned.iloc[cutoff:].shape[0]\n",
    "\n",
    "# #train = eligible_outcomes_aligned.iloc[:cutoff,[0]]\n",
    "# #test = eligible_outcomes_aligned.iloc[cutoff:,[0]]\n",
    "\n",
    "# print(\"n_train in modeling=\"+str(N_TRAIN))\n",
    "# print(\"n_test in modeling=\"+str(N_HELDOUT))\n",
    "\n",
    "# confusion = pd.DataFrame(data=np.zeros(shape=(eligible_outcomes_aligned.shape[1]*len(model_types),6),dtype=np.int),columns=['Label (with calcs on held out 40 pct)','AUC','True +','False +','True -','False -'])\n",
    "\n",
    "# resultrow=0\n",
    "# i = 0\n",
    "\n",
    "# parameters = { \"penalty\": ['l1'], \n",
    "#                \"C\": [64,32,16,8,4,2,1,0.5,0.25,0.1,0.05,0.025,0.01,0.005]}\n",
    "\n",
    "# cv = StratifiedKFold(n_splits=5)\n",
    "# grid_search = GridSearchCV(LogisticRegression(solver='liblinear'), param_grid=parameters, scoring='neg_log_loss', cv=cv) ## can change liblinear to \"lbfgs\"\n",
    "# grid_search.fit(predictor_matrix[train,:],np.array(eligible_outcomes_aligned.ix[train,i]))\t\t\t\t\n",
    "# best_parameters0 = grid_search.best_estimator_.get_params()\n",
    "# model0 = LogisticRegression(**best_parameters0)\t\t\t\t\t\n",
    "                 \n",
    "# model0.fit(predictor_matrix[np.array(train),:],eligible_outcomes_aligned.ix[train,i])\n",
    "# pred0=model0.predict_proba(predictor_matrix[np.array(test),:])[:,1]\n",
    "# coef = pd.concat([ pd.DataFrame(headers),pd.DataFrame(np.transpose(model0.coef_))], axis = 1)\t\n",
    "# df0 = pd.DataFrame({'predict':pred0,'target':eligible_outcomes_aligned.ix[test,i], 'label':all_outcomes_aligned['Accession Number'][test]})\n",
    "\n",
    "# calc_auc=roc_auc_score(np.array(df0['target']),np.array(df0['predict']))\n",
    "# save_name=str(list(eligible_outcomes_aligned.columns.values)[i])\n",
    "# target_predicted=''.join(e for e in save_name if e.isalnum())\n",
    "\n",
    "# # confusion: outcome TP TN FP FN\n",
    "# thresh = np.mean(df0['target'])\n",
    "# FP=0\n",
    "# FN=0\n",
    "# TP=0\n",
    "# TN=0\n",
    "\n",
    "# for j in df0.index:\n",
    "#     cpred=df0.ix[j][0]\n",
    "#     ctarget = df0.ix[j][1]\n",
    "\n",
    "#     if cpred>=thresh and ctarget==1:\n",
    "#         TP+=1\n",
    "#     if cpred<thresh and ctarget==1:\n",
    "#         FN+=1\n",
    "#     if cpred>=thresh and ctarget==0:\n",
    "#         FP+=1\n",
    "#     if cpred<thresh and ctarget==0:\n",
    "#         TN+=1\n",
    "\t\t\t\t\t\t\n",
    "# #save results\t\t\n",
    "# confusion.iloc[resultrow,0]=list(eligible_outcomes_aligned.columns.values)[i]\n",
    "# confusion.iloc[resultrow,1]=calc_auc\n",
    "# confusion.iloc[resultrow,2]=TP\n",
    "# confusion.iloc[resultrow,3]=FP\n",
    "# confusion.iloc[resultrow,4]=TN\n",
    "# confusion.iloc[resultrow,5]=FN\n",
    "            \n",
    "    \n",
    "# model0 = LogisticRegression(**best_parameters0)\t\n",
    "# model0.fit(predictor_matrix,eligible_outcomes_aligned.ix[:,i])                \n",
    "# lasso_models[i]=model0\n",
    "\n",
    "# # resultrow+=1\n",
    "\n",
    "# confusion.set_index(confusion.columns[0],inplace=True)\n",
    "# # return lasso_models, confusion"
   ]
  },
  {
   "cell_type": "code",
   "execution_count": null,
   "metadata": {},
   "outputs": [],
   "source": []
  },
  {
   "cell_type": "code",
   "execution_count": null,
   "metadata": {},
   "outputs": [],
   "source": []
  }
 ],
 "metadata": {
  "kernelspec": {
   "display_name": "Python 3",
   "language": "python",
   "name": "python3"
  },
  "language_info": {
   "codemirror_mode": {
    "name": "ipython",
    "version": 3
   },
   "file_extension": ".py",
   "mimetype": "text/x-python",
   "name": "python",
   "nbconvert_exporter": "python",
   "pygments_lexer": "ipython3",
   "version": "3.7.5"
  }
 },
 "nbformat": 4,
 "nbformat_minor": 4
}
